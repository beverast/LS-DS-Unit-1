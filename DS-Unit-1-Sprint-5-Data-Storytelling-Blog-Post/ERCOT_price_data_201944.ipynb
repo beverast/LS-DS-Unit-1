{
  "nbformat": 4,
  "nbformat_minor": 0,
  "metadata": {
    "colab": {
      "name": "ERCOT_price_data_201944.ipynb",
      "version": "0.3.2",
      "provenance": [],
      "include_colab_link": true
    },
    "language_info": {
      "codemirror_mode": {
        "name": "ipython",
        "version": 3
      },
      "file_extension": ".py",
      "mimetype": "text/x-python",
      "name": "python",
      "nbconvert_exporter": "python",
      "pygments_lexer": "ipython3",
      "version": "3.7.1"
    },
    "kernelspec": {
      "display_name": "Python 3",
      "language": "python",
      "name": "python3"
    }
  },
  "cells": [
    {
      "cell_type": "markdown",
      "metadata": {
        "id": "view-in-github",
        "colab_type": "text"
      },
      "source": [
        "<a href=\"https://colab.research.google.com/github/beverast/DS-Unit-1-Sprint-5-Data-Storytelling-Blog-Post/blob/master/ERCOT_price_data_201944.ipynb\" target=\"_parent\"><img src=\"https://colab.research.google.com/assets/colab-badge.svg\" alt=\"Open In Colab\"/></a>"
      ]
    },
    {
      "metadata": {
        "id": "IyN0w_L_Qjke",
        "colab_type": "text"
      },
      "cell_type": "markdown",
      "source": [
        "### Terminology "
      ]
    },
    {
      "metadata": {
        "id": "JupRvQInQjkj",
        "colab_type": "text"
      },
      "cell_type": "markdown",
      "source": [
        "LMP (Locational Marginal Price):\n",
        "\n",
        "RTD:\n",
        "\n",
        "Settlement point:\n",
        "\n",
        "Load zone:\n",
        "\n",
        "Resource node:"
      ]
    },
    {
      "metadata": {
        "id": "PFtwy4-dQjkm",
        "colab_type": "text"
      },
      "cell_type": "markdown",
      "source": [
        "### Imports and Reads"
      ]
    },
    {
      "metadata": {
        "id": "EDDoHsGLQjkp",
        "colab_type": "code",
        "colab": {}
      },
      "cell_type": "code",
      "source": [
        "import numpy as np\n",
        "import pandas as pd\n",
        "import seaborn as sns"
      ],
      "execution_count": 0,
      "outputs": []
    },
    {
      "metadata": {
        "id": "MiP1T1GlQjk1",
        "colab_type": "code",
        "colab": {}
      },
      "cell_type": "code",
      "source": [
        "lmp_by_node = pd.read_csv('data/LMPs_by_resource_nodes_load_zones_and_trading_hubs.csv')\n",
        "lmp_by_electrical_bus = pd.read_csv('data/LMPs_by_electrical_bus.csv')\n",
        "rtd_indicative_lmp = pd.read_csv('data/RTD_indicative_LMPs_by_rn_lz_hub.csv')\n",
        "settlement_prices = pd.read_csv('data/Settlement_point_prices_at_rn_lz_hub.csv')"
      ],
      "execution_count": 0,
      "outputs": []
    },
    {
      "metadata": {
        "id": "HeARQ2feQjk-",
        "colab_type": "code",
        "colab": {},
        "outputId": "94c1095c-c9ed-4c73-f66a-6d7841f67d9e"
      },
      "cell_type": "code",
      "source": [
        "lmp_by_node.shape, lmp_by_electrical_bus.shape, rtd_indicative_lmp.shape, settlement_prices.shape"
      ],
      "execution_count": 0,
      "outputs": [
        {
          "output_type": "execute_result",
          "data": {
            "text/plain": [
              "((642, 4), (13290, 4), (7062, 8), (655, 7))"
            ]
          },
          "metadata": {
            "tags": []
          },
          "execution_count": 3
        }
      ]
    },
    {
      "metadata": {
        "id": "QI9XH3vUQjlR",
        "colab_type": "text"
      },
      "cell_type": "markdown",
      "source": [
        "### `lmp_by_node` Data Cleaning "
      ]
    },
    {
      "metadata": {
        "id": "jzChAby4QjlT",
        "colab_type": "text"
      },
      "cell_type": "markdown",
      "source": [
        "LMP by resource nodes, load zones, and trading hubs"
      ]
    },
    {
      "metadata": {
        "id": "QGCsebZxQjlY",
        "colab_type": "code",
        "colab": {},
        "outputId": "d10fc4f0-97fa-454a-8960-391215c0a0bf"
      },
      "cell_type": "code",
      "source": [
        "lmp_by_node.head()"
      ],
      "execution_count": 0,
      "outputs": [
        {
          "output_type": "execute_result",
          "data": {
            "text/html": [
              "<div>\n",
              "<style scoped>\n",
              "    .dataframe tbody tr th:only-of-type {\n",
              "        vertical-align: middle;\n",
              "    }\n",
              "\n",
              "    .dataframe tbody tr th {\n",
              "        vertical-align: top;\n",
              "    }\n",
              "\n",
              "    .dataframe thead th {\n",
              "        text-align: right;\n",
              "    }\n",
              "</style>\n",
              "<table border=\"1\" class=\"dataframe\">\n",
              "  <thead>\n",
              "    <tr style=\"text-align: right;\">\n",
              "      <th></th>\n",
              "      <th>SCEDTimestamp</th>\n",
              "      <th>RepeatedHourFlag</th>\n",
              "      <th>SettlementPoint</th>\n",
              "      <th>LMP</th>\n",
              "    </tr>\n",
              "  </thead>\n",
              "  <tbody>\n",
              "    <tr>\n",
              "      <th>0</th>\n",
              "      <td>04/04/2019 14:50:14</td>\n",
              "      <td>N</td>\n",
              "      <td>AEEC</td>\n",
              "      <td>27.33</td>\n",
              "    </tr>\n",
              "    <tr>\n",
              "      <th>1</th>\n",
              "      <td>04/04/2019 14:50:14</td>\n",
              "      <td>N</td>\n",
              "      <td>AMISTAD_ALL</td>\n",
              "      <td>27.73</td>\n",
              "    </tr>\n",
              "    <tr>\n",
              "      <th>2</th>\n",
              "      <td>04/04/2019 14:50:14</td>\n",
              "      <td>N</td>\n",
              "      <td>AMOCOOIL_CC1</td>\n",
              "      <td>27.76</td>\n",
              "    </tr>\n",
              "    <tr>\n",
              "      <th>3</th>\n",
              "      <td>04/04/2019 14:50:14</td>\n",
              "      <td>N</td>\n",
              "      <td>AMOCOOIL_CC2</td>\n",
              "      <td>27.76</td>\n",
              "    </tr>\n",
              "    <tr>\n",
              "      <th>4</th>\n",
              "      <td>04/04/2019 14:50:14</td>\n",
              "      <td>N</td>\n",
              "      <td>AMOCO_PUN1</td>\n",
              "      <td>27.76</td>\n",
              "    </tr>\n",
              "  </tbody>\n",
              "</table>\n",
              "</div>"
            ],
            "text/plain": [
              "         SCEDTimestamp RepeatedHourFlag SettlementPoint    LMP\n",
              "0  04/04/2019 14:50:14                N            AEEC  27.33\n",
              "1  04/04/2019 14:50:14                N     AMISTAD_ALL  27.73\n",
              "2  04/04/2019 14:50:14                N    AMOCOOIL_CC1  27.76\n",
              "3  04/04/2019 14:50:14                N    AMOCOOIL_CC2  27.76\n",
              "4  04/04/2019 14:50:14                N      AMOCO_PUN1  27.76"
            ]
          },
          "metadata": {
            "tags": []
          },
          "execution_count": 4
        }
      ]
    },
    {
      "metadata": {
        "id": "KtuaSZDVQjlm",
        "colab_type": "code",
        "colab": {},
        "outputId": "b05b17be-92b5-4ade-930a-f08c41530cc7"
      },
      "cell_type": "code",
      "source": [
        "lmp_by_node.info()"
      ],
      "execution_count": 0,
      "outputs": [
        {
          "output_type": "stream",
          "text": [
            "<class 'pandas.core.frame.DataFrame'>\n",
            "RangeIndex: 642 entries, 0 to 641\n",
            "Data columns (total 4 columns):\n",
            "SCEDTimestamp       642 non-null object\n",
            "RepeatedHourFlag    642 non-null object\n",
            "SettlementPoint     642 non-null object\n",
            "LMP                 642 non-null float64\n",
            "dtypes: float64(1), object(3)\n",
            "memory usage: 20.1+ KB\n"
          ],
          "name": "stdout"
        }
      ]
    },
    {
      "metadata": {
        "id": "6k3QzhbjQjly",
        "colab_type": "code",
        "colab": {},
        "outputId": "88c175a5-d8d6-4f93-c2b3-469fe0cbe609"
      },
      "cell_type": "code",
      "source": [
        "# SCEDTimestamp has 1 unique value/time, and SettlementPoint is entirely unique values\n",
        "lmp_by_node.describe(exclude='number')"
      ],
      "execution_count": 0,
      "outputs": [
        {
          "output_type": "execute_result",
          "data": {
            "text/html": [
              "<div>\n",
              "<style scoped>\n",
              "    .dataframe tbody tr th:only-of-type {\n",
              "        vertical-align: middle;\n",
              "    }\n",
              "\n",
              "    .dataframe tbody tr th {\n",
              "        vertical-align: top;\n",
              "    }\n",
              "\n",
              "    .dataframe thead th {\n",
              "        text-align: right;\n",
              "    }\n",
              "</style>\n",
              "<table border=\"1\" class=\"dataframe\">\n",
              "  <thead>\n",
              "    <tr style=\"text-align: right;\">\n",
              "      <th></th>\n",
              "      <th>SCEDTimestamp</th>\n",
              "      <th>RepeatedHourFlag</th>\n",
              "      <th>SettlementPoint</th>\n",
              "    </tr>\n",
              "  </thead>\n",
              "  <tbody>\n",
              "    <tr>\n",
              "      <th>count</th>\n",
              "      <td>642</td>\n",
              "      <td>642</td>\n",
              "      <td>642</td>\n",
              "    </tr>\n",
              "    <tr>\n",
              "      <th>unique</th>\n",
              "      <td>1</td>\n",
              "      <td>1</td>\n",
              "      <td>642</td>\n",
              "    </tr>\n",
              "    <tr>\n",
              "      <th>top</th>\n",
              "      <td>04/04/2019 14:50:14</td>\n",
              "      <td>N</td>\n",
              "      <td>FO_FORMOSG3</td>\n",
              "    </tr>\n",
              "    <tr>\n",
              "      <th>freq</th>\n",
              "      <td>642</td>\n",
              "      <td>642</td>\n",
              "      <td>1</td>\n",
              "    </tr>\n",
              "  </tbody>\n",
              "</table>\n",
              "</div>"
            ],
            "text/plain": [
              "              SCEDTimestamp RepeatedHourFlag SettlementPoint\n",
              "count                   642              642             642\n",
              "unique                    1                1             642\n",
              "top     04/04/2019 14:50:14                N     FO_FORMOSG3\n",
              "freq                    642              642               1"
            ]
          },
          "metadata": {
            "tags": []
          },
          "execution_count": 6
        }
      ]
    },
    {
      "metadata": {
        "id": "WNng5E2hQjl9",
        "colab_type": "code",
        "colab": {},
        "outputId": "f2037802-3107-445c-c0f5-45f412740702"
      },
      "cell_type": "code",
      "source": [
        "# SCEDTimestamp is of dtype 'object' so I'll convert it to a dateTimeIndex\n",
        "lmp_by_node['SCEDTimestamp'] = pd.to_datetime(lmp_by_node['SCEDTimestamp'], infer_datetime_format=True)\n",
        "lmp_by_node['SCEDTimestamp'].head()"
      ],
      "execution_count": 0,
      "outputs": [
        {
          "output_type": "execute_result",
          "data": {
            "text/plain": [
              "0   2019-04-04 14:50:14\n",
              "1   2019-04-04 14:50:14\n",
              "2   2019-04-04 14:50:14\n",
              "3   2019-04-04 14:50:14\n",
              "4   2019-04-04 14:50:14\n",
              "Name: SCEDTimestamp, dtype: datetime64[ns]"
            ]
          },
          "metadata": {
            "tags": []
          },
          "execution_count": 7
        }
      ]
    },
    {
      "metadata": {
        "id": "gvNcMjysQjmK",
        "colab_type": "code",
        "colab": {},
        "outputId": "027a09ac-76e6-4025-ecaa-ba00e7b90868"
      },
      "cell_type": "code",
      "source": [
        "# RepeatedHourFlag is of dtype 'object' and every observation is 'N'\n",
        "# I can encode or I can drop the column\n",
        "lmp_by_node['RepeatedHourFlag'] = lmp_by_node['RepeatedHourFlag'].astype('category')\n",
        "lmp_by_node['RepeatedHourFlag'].cat.codes.value_counts()"
      ],
      "execution_count": 0,
      "outputs": [
        {
          "output_type": "execute_result",
          "data": {
            "text/plain": [
              "0    642\n",
              "dtype: int64"
            ]
          },
          "metadata": {
            "tags": []
          },
          "execution_count": 8
        }
      ]
    },
    {
      "metadata": {
        "id": "sr0TyJ-iQjmW",
        "colab_type": "code",
        "colab": {},
        "outputId": "f3f9557e-510e-46a4-c40f-4161f0efb15b"
      },
      "cell_type": "code",
      "source": [
        "# Visualize the distribution of Locational Marginal Prices\n",
        "sns.distplot(a=lmp_by_node['LMP']);"
      ],
      "execution_count": 0,
      "outputs": [
        {
          "output_type": "display_data",
          "data": {
            "image/png": "[encoded data removed]",
            "text/plain": [
              "<Figure size 432x288 with 1 Axes>"
            ]
          },
          "metadata": {
            "tags": [],
            "needs_background": "light"
          }
        }
      ]
    },
    {
      "metadata": {
        "id": "3BZXgdPNQjmi",
        "colab_type": "code",
        "colab": {},
        "outputId": "89279983-b63f-4cf6-c999-64cc10c9b752"
      },
      "cell_type": "code",
      "source": [
        "# At this time, what's the LMP for each resource node, load zone, and trading hub\n",
        "sns.barplot(x='SettlementPoint', y='LMP', data=lmp_by_node);"
      ],
      "execution_count": 0,
      "outputs": [
        {
          "output_type": "display_data",
          "data": {
            "image/png": "[encoded data removed]",
            "text/plain": [
              "<Figure size 432x288 with 1 Axes>"
            ]
          },
          "metadata": {
            "tags": [],
            "needs_background": "light"
          }
        }
      ]
    },
    {
      "metadata": {
        "id": "pm2pEXbcQjms",
        "colab_type": "text"
      },
      "cell_type": "markdown",
      "source": [
        "### `lmp_by_electrical_bus` Data Cleaning"
      ]
    },
    {
      "metadata": {
        "id": "NjruexVKQjmv",
        "colab_type": "text"
      },
      "cell_type": "markdown",
      "source": [
        "LMP by electrical bus"
      ]
    },
    {
      "metadata": {
        "id": "kJr2J3azQjmy",
        "colab_type": "code",
        "colab": {},
        "outputId": "d1652e01-60b8-4c37-f4c0-90cadf27c08d"
      },
      "cell_type": "code",
      "source": [
        "lmp_by_electrical_bus.head()"
      ],
      "execution_count": 0,
      "outputs": [
        {
          "output_type": "execute_result",
          "data": {
            "text/html": [
              "<div>\n",
              "<style scoped>\n",
              "    .dataframe tbody tr th:only-of-type {\n",
              "        vertical-align: middle;\n",
              "    }\n",
              "\n",
              "    .dataframe tbody tr th {\n",
              "        vertical-align: top;\n",
              "    }\n",
              "\n",
              "    .dataframe thead th {\n",
              "        text-align: right;\n",
              "    }\n",
              "</style>\n",
              "<table border=\"1\" class=\"dataframe\">\n",
              "  <thead>\n",
              "    <tr style=\"text-align: right;\">\n",
              "      <th></th>\n",
              "      <th>SCEDTimestamp</th>\n",
              "      <th>RepeatedHourFlag</th>\n",
              "      <th>ElectricalBus</th>\n",
              "      <th>LMP</th>\n",
              "    </tr>\n",
              "  </thead>\n",
              "  <tbody>\n",
              "    <tr>\n",
              "      <th>0</th>\n",
              "      <td>04/04/2019 15:00:17</td>\n",
              "      <td>N</td>\n",
              "      <td>0001</td>\n",
              "      <td>-13.44</td>\n",
              "    </tr>\n",
              "    <tr>\n",
              "      <th>1</th>\n",
              "      <td>04/04/2019 15:00:17</td>\n",
              "      <td>N</td>\n",
              "      <td>0001DUPV1_</td>\n",
              "      <td>28.53</td>\n",
              "    </tr>\n",
              "    <tr>\n",
              "      <th>2</th>\n",
              "      <td>04/04/2019 15:00:17</td>\n",
              "      <td>N</td>\n",
              "      <td>0001HWFG1</td>\n",
              "      <td>27.15</td>\n",
              "    </tr>\n",
              "    <tr>\n",
              "      <th>3</th>\n",
              "      <td>04/04/2019 15:00:17</td>\n",
              "      <td>N</td>\n",
              "      <td>0001VICTOR</td>\n",
              "      <td>28.56</td>\n",
              "    </tr>\n",
              "    <tr>\n",
              "      <th>4</th>\n",
              "      <td>04/04/2019 15:00:17</td>\n",
              "      <td>N</td>\n",
              "      <td>0001_C</td>\n",
              "      <td>28.85</td>\n",
              "    </tr>\n",
              "  </tbody>\n",
              "</table>\n",
              "</div>"
            ],
            "text/plain": [
              "         SCEDTimestamp RepeatedHourFlag ElectricalBus    LMP\n",
              "0  04/04/2019 15:00:17                N          0001 -13.44\n",
              "1  04/04/2019 15:00:17                N    0001DUPV1_  28.53\n",
              "2  04/04/2019 15:00:17                N     0001HWFG1  27.15\n",
              "3  04/04/2019 15:00:17                N    0001VICTOR  28.56\n",
              "4  04/04/2019 15:00:17                N        0001_C  28.85"
            ]
          },
          "metadata": {
            "tags": []
          },
          "execution_count": 11
        }
      ]
    },
    {
      "metadata": {
        "id": "kNlGsj4gQjm_",
        "colab_type": "code",
        "colab": {},
        "outputId": "363dff9d-f4aa-4ca2-e5a1-7bc026612b40"
      },
      "cell_type": "code",
      "source": [
        "lmp_by_electrical_bus.info()"
      ],
      "execution_count": 0,
      "outputs": [
        {
          "output_type": "stream",
          "text": [
            "<class 'pandas.core.frame.DataFrame'>\n",
            "RangeIndex: 13290 entries, 0 to 13289\n",
            "Data columns (total 4 columns):\n",
            "SCEDTimestamp       13290 non-null object\n",
            "RepeatedHourFlag    13290 non-null object\n",
            "ElectricalBus       13290 non-null object\n",
            "LMP                 13290 non-null float64\n",
            "dtypes: float64(1), object(3)\n",
            "memory usage: 415.4+ KB\n"
          ],
          "name": "stdout"
        }
      ]
    },
    {
      "metadata": {
        "id": "hxeCxquJQjnP",
        "colab_type": "code",
        "colab": {},
        "outputId": "bafe2445-6c17-4232-d24b-57b5f40e772a"
      },
      "cell_type": "code",
      "source": [
        "lmp_by_electrical_bus.nunique()"
      ],
      "execution_count": 0,
      "outputs": [
        {
          "output_type": "execute_result",
          "data": {
            "text/plain": [
              "SCEDTimestamp           1\n",
              "RepeatedHourFlag        1\n",
              "ElectricalBus       13290\n",
              "LMP                   565\n",
              "dtype: int64"
            ]
          },
          "metadata": {
            "tags": []
          },
          "execution_count": 13
        }
      ]
    },
    {
      "metadata": {
        "id": "JQuSiILFQjnd",
        "colab_type": "code",
        "colab": {}
      },
      "cell_type": "code",
      "source": [
        "# Convert 'SCEDTimestamp' to datetime object\n",
        "lmp_by_electrical_bus['SCEDTimestamp'] = pd.to_datetime(lmp_by_electrical_bus['SCEDTimestamp'], infer_datetime_format=True)"
      ],
      "execution_count": 0,
      "outputs": []
    },
    {
      "metadata": {
        "id": "0jS46WdMQjnn",
        "colab_type": "code",
        "colab": {}
      },
      "cell_type": "code",
      "source": [
        "# Convert 'RepeatedHourFlag' to category object\n",
        "lmp_by_electrical_bus['RepeatedHourFlag'] = lmp_by_electrical_bus['RepeatedHourFlag'].astype('category')"
      ],
      "execution_count": 0,
      "outputs": []
    },
    {
      "metadata": {
        "id": "eErvLcsWQjny",
        "colab_type": "code",
        "colab": {},
        "outputId": "78b0f295-c732-4abf-becf-17f69e6d1f93"
      },
      "cell_type": "code",
      "source": [
        "lmp_by_electrical_bus.describe()"
      ],
      "execution_count": 0,
      "outputs": [
        {
          "output_type": "execute_result",
          "data": {
            "text/html": [
              "<div>\n",
              "<style scoped>\n",
              "    .dataframe tbody tr th:only-of-type {\n",
              "        vertical-align: middle;\n",
              "    }\n",
              "\n",
              "    .dataframe tbody tr th {\n",
              "        vertical-align: top;\n",
              "    }\n",
              "\n",
              "    .dataframe thead th {\n",
              "        text-align: right;\n",
              "    }\n",
              "</style>\n",
              "<table border=\"1\" class=\"dataframe\">\n",
              "  <thead>\n",
              "    <tr style=\"text-align: right;\">\n",
              "      <th></th>\n",
              "      <th>LMP</th>\n",
              "    </tr>\n",
              "  </thead>\n",
              "  <tbody>\n",
              "    <tr>\n",
              "      <th>count</th>\n",
              "      <td>13290.000000</td>\n",
              "    </tr>\n",
              "    <tr>\n",
              "      <th>mean</th>\n",
              "      <td>27.336175</td>\n",
              "    </tr>\n",
              "    <tr>\n",
              "      <th>std</th>\n",
              "      <td>4.798200</td>\n",
              "    </tr>\n",
              "    <tr>\n",
              "      <th>min</th>\n",
              "      <td>-22.170000</td>\n",
              "    </tr>\n",
              "    <tr>\n",
              "      <th>25%</th>\n",
              "      <td>27.230000</td>\n",
              "    </tr>\n",
              "    <tr>\n",
              "      <th>50%</th>\n",
              "      <td>27.780000</td>\n",
              "    </tr>\n",
              "    <tr>\n",
              "      <th>75%</th>\n",
              "      <td>28.200000</td>\n",
              "    </tr>\n",
              "    <tr>\n",
              "      <th>max</th>\n",
              "      <td>75.730000</td>\n",
              "    </tr>\n",
              "  </tbody>\n",
              "</table>\n",
              "</div>"
            ],
            "text/plain": [
              "                LMP\n",
              "count  13290.000000\n",
              "mean      27.336175\n",
              "std        4.798200\n",
              "min      -22.170000\n",
              "25%       27.230000\n",
              "50%       27.780000\n",
              "75%       28.200000\n",
              "max       75.730000"
            ]
          },
          "metadata": {
            "tags": []
          },
          "execution_count": 16
        }
      ]
    },
    {
      "metadata": {
        "id": "j8kIkF0HQjoA",
        "colab_type": "code",
        "colab": {},
        "outputId": "b45716ea-de02-46f5-f5a0-d31bc2ba5ffc"
      },
      "cell_type": "code",
      "source": [
        "sns.distplot(lmp_by_electrical_bus['LMP']);"
      ],
      "execution_count": 0,
      "outputs": [
        {
          "output_type": "display_data",
          "data": {
            "image/png": "[encoded data removed]",
            "text/plain": [
              "<Figure size 432x288 with 1 Axes>"
            ]
          },
          "metadata": {
            "tags": [],
            "needs_background": "light"
          }
        }
      ]
    },
    {
      "metadata": {
        "id": "NXEqYK4WQjoM",
        "colab_type": "code",
        "colab": {},
        "outputId": "57c86ecb-bf3c-44d7-b209-dc835055cff1"
      },
      "cell_type": "code",
      "source": [
        "sns.countplot(x='LMP', data=lmp_by_electrical_bus);"
      ],
      "execution_count": 0,
      "outputs": [
        {
          "output_type": "display_data",
          "data": {
            "image/png": "[encoded data removed]",
            "text/plain": [
              "<Figure size 432x288 with 1 Axes>"
            ]
          },
          "metadata": {
            "tags": [],
            "needs_background": "light"
          }
        }
      ]
    },
    {
      "metadata": {
        "id": "ScFFuumYQjoY",
        "colab_type": "text"
      },
      "cell_type": "markdown",
      "source": [
        "### `rtd_indicative_lmp` Data Cleaning"
      ]
    },
    {
      "metadata": {
        "id": "DYVAaPZfQjob",
        "colab_type": "text"
      },
      "cell_type": "markdown",
      "source": [
        "RTD indicative LMPs by resource nodes, load zones, and trading hubs"
      ]
    },
    {
      "metadata": {
        "id": "YrDIKu1UQjof",
        "colab_type": "code",
        "colab": {}
      },
      "cell_type": "code",
      "source": [
        "rtd_indicative_lmp.head()"
      ],
      "execution_count": 0,
      "outputs": []
    },
    {
      "metadata": {
        "id": "NhddJ8ylQjoo",
        "colab_type": "text"
      },
      "cell_type": "markdown",
      "source": [
        "### `settlement_prices` Data Cleaning"
      ]
    },
    {
      "metadata": {
        "id": "kqywg9lnQjor",
        "colab_type": "text"
      },
      "cell_type": "markdown",
      "source": [
        "Settlement prices at resource nodes, load zones, and trading hubs"
      ]
    },
    {
      "metadata": {
        "id": "tIi0QYfGQjot",
        "colab_type": "code",
        "colab": {}
      },
      "cell_type": "code",
      "source": [
        "settlement_prices.head()"
      ],
      "execution_count": 0,
      "outputs": []
    },
    {
      "metadata": {
        "id": "M9e7VgpTQjo2",
        "colab_type": "code",
        "colab": {}
      },
      "cell_type": "code",
      "source": [
        ""
      ],
      "execution_count": 0,
      "outputs": []
    }
  ]
}