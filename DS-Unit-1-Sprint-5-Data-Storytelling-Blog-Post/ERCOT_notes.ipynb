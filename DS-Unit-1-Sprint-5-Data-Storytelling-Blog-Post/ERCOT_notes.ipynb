{
  "nbformat": 4,
  "nbformat_minor": 0,
  "metadata": {
    "colab": {
      "name": "ERCOT_notes.ipynb",
      "version": "0.3.2",
      "provenance": [],
      "include_colab_link": true
    },
    "language_info": {
      "codemirror_mode": {
        "name": "ipython",
        "version": 3
      },
      "file_extension": ".py",
      "mimetype": "text/x-python",
      "name": "python",
      "nbconvert_exporter": "python",
      "pygments_lexer": "ipython3",
      "version": "3.7.1"
    },
    "kernelspec": {
      "display_name": "Python 3",
      "language": "python",
      "name": "python3"
    }
  },
  "cells": [
    {
      "cell_type": "markdown",
      "metadata": {
        "id": "view-in-github",
        "colab_type": "text"
      },
      "source": [
        "<a href=\"https://colab.research.google.com/github/beverast/DS-Unit-1-Sprint-5-Data-Storytelling-Blog-Post/blob/master/ERCOT_notes.ipynb\" target=\"_parent\"><img src=\"https://colab.research.google.com/assets/colab-badge.svg\" alt=\"Open In Colab\"/></a>"
      ]
    },
    {
      "metadata": {
        "id": "J5LKSy0IQubz",
        "colab_type": "text"
      },
      "cell_type": "markdown",
      "source": [
        "# Notes\n",
        "\n",
        "* ERCOT doesn't cover all Texas, El Paso and the upper panhandle and part of East Texas are not covered\n",
        "* Utilities began linking together after WW1, they sprouted up sporadically after Edison turned on the first power plant\n",
        "* Texas Interconnect System came about during WW2 allowing them to link to dams along TX rivers and send extra electricity to factories aiding the war\n",
        "* The Texas Interconnected System wanted to keep fed. regulators at bay\n",
        "* By not crossing state lines TX utilities avoided being subject to federal law, as in the Federal Power Act by Franklin Roosevelt in 1935\n",
        "* Self-reliance was also made easier in Texas, especially in the early days, because the state has substantial coal, natural gas and oil resources of its own to fuel power plants\n",
        "* ERCOT formed in '70 after a major blackout in the Northeast in Nov. '65 (worst in history). It was tasked with grid reliability in acc. with national standards\n",
        "* ERCOT has more responsibilites since TX's electrical dereg. a decade ago\n",
        "* ERCOT not in jurisdiction of the Federal Energy Regulatory Commission\n",
        "* TX has been linked to other grids in special cases: WW2 needs and 'The Midnight Connection' between TX and OK\n",
        "* The Midnight Connection almost cost TX its electrical independence\n",
        "* TX is not isolated from other grids, 3 ties to Mexico, 2 ties to the Eastern US grid but neither trigger fed reg\n",
        "* Cost of electrical energy comes from the producers bid into the market roughly based on the cost of generation\n",
        "* Wind generation cost is very low, mostly determined by availability of wind\n",
        "* Nuclear is low cost\n",
        "* Nat gas and coal based generation cost is based on resp. fuel prices\n",
        "* Long term forecast: weather and economic growth factors\n",
        "* Near term forecast: driven by weather mostly and day of week\n",
        "* TX has 'single state jurisdiction' which is good for expansion of infra.\n",
        "\n",
        "\n",
        "Citations: \n",
        "\n",
        "https://www.texastribune.org/2011/02/08/texplainer-why-does-texas-have-its-own-power-grid/\n",
        "\n",
        "https://www.texastribune.org/2013/10/29/texplainer-how-texas-grid-managed/\n",
        "\n",
        "\n",
        "\n",
        "# Notes 2\n",
        "* Electrical power is foundational for TX economic growth\n",
        "* Texas Interconnect System was the group of regions in TX before ERCOT\n",
        "* Western Interconnect includes El Paso and far west TX\n",
        "* Under Gov. GW Bush legislature granted ERCOT much more power and freedom\n",
        "* ERCOT is US's first Independent System Operator (ISO)\n",
        "* TX electricity consumers tend to pay less than normal because of facilitated competition between power plants by ERCOT\n",
        "* Customers can change their service provider almost instantly with electronic electricity boxes\n",
        "* Competitive Renewable Energy Zone: carry renewable energy across power lines to load centers like Austin\n",
        "* In 2015 12% of all energy consumed was renewable\n",
        "* Other ISOs (non-TX) have to go through the Federal Energy Regulatory Commission to request rule changes, in TX stakeholders come to consensus\n",
        "* TX doesn't use regions or zones, they use a nodal system based on generation location\n",
        "\n",
        "\n",
        "Citation:\n",
        "\n",
        "http://www.ercot.com/about/profile/history/\n",
        "\n",
        "\n",
        "\n",
        "# Notes 3\n"
      ]
    },
    {
      "metadata": {
        "id": "yr_bYuFsQub3",
        "colab_type": "text"
      },
      "cell_type": "markdown",
      "source": [
        "* TX has highest wind and coal energy production in US\n",
        "* "
      ]
    },
    {
      "metadata": {
        "id": "JMsy9JBIQub7",
        "colab_type": "code",
        "colab": {}
      },
      "cell_type": "code",
      "source": [
        ""
      ],
      "execution_count": 0,
      "outputs": []
    }
  ]
}