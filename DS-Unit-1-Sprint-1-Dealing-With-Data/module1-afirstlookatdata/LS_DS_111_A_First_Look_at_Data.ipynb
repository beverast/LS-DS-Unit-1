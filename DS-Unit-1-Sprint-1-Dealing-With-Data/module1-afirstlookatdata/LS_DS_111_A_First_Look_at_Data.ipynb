{
  "nbformat": 4,
  "nbformat_minor": 0,
  "metadata": {
    "colab": {
      "name": "LS_DS_111_A_First_Look_at_Data.ipynb",
      "version": "0.3.2",
      "provenance": [],
      "include_colab_link": true
    },
    "kernelspec": {
      "name": "python3",
      "display_name": "Python 3"
    }
  },
  "cells": [
    {
      "cell_type": "markdown",
      "metadata": {
        "id": "view-in-github",
        "colab_type": "text"
      },
      "source": [
        "<a href=\"https://colab.research.google.com/github/beverast/DS-Unit-1-Sprint-1-Dealing-With-Data/blob/master/module1-afirstlookatdata/LS_DS_111_A_First_Look_at_Data.ipynb\" target=\"_parent\"><img src=\"https://colab.research.google.com/assets/colab-badge.svg\" alt=\"Open In Colab\"/></a>"
      ]
    },
    {
      "metadata": {
        "id": "Okfr_uhwhS1X",
        "colab_type": "text"
      },
      "cell_type": "markdown",
      "source": [
        "# Lambda School Data Science - A First Look at Data\n",
        "\n"
      ]
    },
    {
      "metadata": {
        "id": "9dtJETFRhnOG",
        "colab_type": "text"
      },
      "cell_type": "markdown",
      "source": [
        "## Lecture - let's explore Python DS libraries and examples!\n",
        "\n",
        "The Python Data Science ecosystem is huge. You've seen some of the big pieces - pandas, scikit-learn, matplotlib. What parts do you want to see more of?"
      ]
    },
    {
      "metadata": {
        "id": "WiBkgmPJhmhE",
        "colab_type": "code",
        "colab": {}
      },
      "cell_type": "code",
      "source": [
        "# TODO - we'll be doing this live, taking requests\n",
        "# and reproducing what it is to look up and learn things\n",
        "# Making changes here!"
      ],
      "execution_count": 0,
      "outputs": []
    },
    {
      "metadata": {
        "id": "lOqaPds9huME",
        "colab_type": "text"
      },
      "cell_type": "markdown",
      "source": [
        "## Assignment - now it's your turn\n",
        "\n",
        "Pick at least one Python DS library, and using documentation/examples reproduce in this notebook something cool. It's OK if you don't fully understand it or get it 100% working, but do put in effort and look things up."
      ]
    },
    {
      "metadata": {
        "id": "TGUS79cOhPWj",
        "colab_type": "code",
        "colab": {
          "base_uri": "https://localhost:8080/",
          "height": 424
        },
        "outputId": "e1e253f7-cd81-48f3-98ba-877239d6322a"
      },
      "cell_type": "code",
      "source": [
        "import matplotlib.pyplot as plt\n",
        "import pandas as pd\n",
        "import numpy as np\n",
        "\n",
        "# Retrieve a CSV daataset over an API endpoint\n",
        "# This dataset the LTC/USD exchange rate from the Bitfinex exchange\n",
        "ltc_usd = pd.read_csv('https://www.quandl.com/api/v3/datasets/BITFINEX/LTCUSD.csv?api_key=4ZihQR6Zm2C7iNKK7t3z')\n",
        "# Reverse the DataFrame so data appears in chronological order\n",
        "ltc_usd = ltc_usd.reindex(index=ltc_usd.index[::-1])\n",
        "# Check for NaN entries\n",
        "ltc_usd.info();\n",
        "ltc_usd.head()"
      ],
      "execution_count": 70,
      "outputs": [
        {
          "output_type": "stream",
          "text": [
            "<class 'pandas.core.frame.DataFrame'>\n",
            "RangeIndex: 1755 entries, 1754 to 0\n",
            "Data columns (total 8 columns):\n",
            "Date      1755 non-null object\n",
            "High      1755 non-null float64\n",
            "Low       1755 non-null float64\n",
            "Mid       1755 non-null float64\n",
            "Last      1755 non-null float64\n",
            "Bid       1755 non-null float64\n",
            "Ask       1755 non-null float64\n",
            "Volume    1755 non-null float64\n",
            "dtypes: float64(7), object(1)\n",
            "memory usage: 109.8+ KB\n"
          ],
          "name": "stdout"
        },
        {
          "output_type": "execute_result",
          "data": {
            "text/html": [
              "<div>\n",
              "<style scoped>\n",
              "    .dataframe tbody tr th:only-of-type {\n",
              "        vertical-align: middle;\n",
              "    }\n",
              "\n",
              "    .dataframe tbody tr th {\n",
              "        vertical-align: top;\n",
              "    }\n",
              "\n",
              "    .dataframe thead th {\n",
              "        text-align: right;\n",
              "    }\n",
              "</style>\n",
              "<table border=\"1\" class=\"dataframe\">\n",
              "  <thead>\n",
              "    <tr style=\"text-align: right;\">\n",
              "      <th></th>\n",
              "      <th>Date</th>\n",
              "      <th>High</th>\n",
              "      <th>Low</th>\n",
              "      <th>Mid</th>\n",
              "      <th>Last</th>\n",
              "      <th>Bid</th>\n",
              "      <th>Ask</th>\n",
              "      <th>Volume</th>\n",
              "    </tr>\n",
              "  </thead>\n",
              "  <tbody>\n",
              "    <tr>\n",
              "      <th>1754</th>\n",
              "      <td>2014-04-15</td>\n",
              "      <td>13.18999</td>\n",
              "      <td>11.360200</td>\n",
              "      <td>13.03710</td>\n",
              "      <td>13.1399</td>\n",
              "      <td>12.9442</td>\n",
              "      <td>13.130</td>\n",
              "      <td>37885.001856</td>\n",
              "    </tr>\n",
              "    <tr>\n",
              "      <th>1753</th>\n",
              "      <td>2014-04-16</td>\n",
              "      <td>14.19990</td>\n",
              "      <td>12.580000</td>\n",
              "      <td>13.55000</td>\n",
              "      <td>13.6000</td>\n",
              "      <td>13.5000</td>\n",
              "      <td>13.600</td>\n",
              "      <td>45478.305420</td>\n",
              "    </tr>\n",
              "    <tr>\n",
              "      <th>1752</th>\n",
              "      <td>2014-04-17</td>\n",
              "      <td>13.75000</td>\n",
              "      <td>12.000000</td>\n",
              "      <td>12.80525</td>\n",
              "      <td>12.8400</td>\n",
              "      <td>12.7105</td>\n",
              "      <td>12.900</td>\n",
              "      <td>24619.725675</td>\n",
              "    </tr>\n",
              "    <tr>\n",
              "      <th>1751</th>\n",
              "      <td>2014-04-18</td>\n",
              "      <td>12.95000</td>\n",
              "      <td>11.750000</td>\n",
              "      <td>12.31960</td>\n",
              "      <td>12.2501</td>\n",
              "      <td>12.2502</td>\n",
              "      <td>12.389</td>\n",
              "      <td>24038.610676</td>\n",
              "    </tr>\n",
              "    <tr>\n",
              "      <th>1750</th>\n",
              "      <td>2014-04-19</td>\n",
              "      <td>13.24990</td>\n",
              "      <td>11.817111</td>\n",
              "      <td>12.92500</td>\n",
              "      <td>12.9900</td>\n",
              "      <td>12.9000</td>\n",
              "      <td>12.950</td>\n",
              "      <td>25058.421776</td>\n",
              "    </tr>\n",
              "  </tbody>\n",
              "</table>\n",
              "</div>"
            ],
            "text/plain": [
              "            Date      High        Low       Mid     Last      Bid     Ask  \\\n",
              "1754  2014-04-15  13.18999  11.360200  13.03710  13.1399  12.9442  13.130   \n",
              "1753  2014-04-16  14.19990  12.580000  13.55000  13.6000  13.5000  13.600   \n",
              "1752  2014-04-17  13.75000  12.000000  12.80525  12.8400  12.7105  12.900   \n",
              "1751  2014-04-18  12.95000  11.750000  12.31960  12.2501  12.2502  12.389   \n",
              "1750  2014-04-19  13.24990  11.817111  12.92500  12.9900  12.9000  12.950   \n",
              "\n",
              "            Volume  \n",
              "1754  37885.001856  \n",
              "1753  45478.305420  \n",
              "1752  24619.725675  \n",
              "1751  24038.610676  \n",
              "1750  25058.421776  "
            ]
          },
          "metadata": {
            "tags": []
          },
          "execution_count": 70
        }
      ]
    },
    {
      "metadata": {
        "id": "beHb2sc-hhkw",
        "colab_type": "code",
        "colab": {
          "base_uri": "https://localhost:8080/",
          "height": 377
        },
        "outputId": "ce9aa627-65b0-4e89-b44c-4c00d2014ea8"
      },
      "cell_type": "code",
      "source": [
        "# Plot High and Low price data for all time\n",
        "plt.plot_date(x=ltc_usd['Date'], y=ltc_usd['High'], fmt='-', color='r', markevery=5)\n",
        "plt.plot_date(x=ltc_usd['Date'], y=ltc_usd['Low'], fmt='-', color='g', markevery=5)\n",
        "#Format the graph\n",
        "plt.xticks([])\n",
        "plt.xlabel('2014 - 2019')\n",
        "plt.ylabel('Price in USD')\n",
        "plt.title('LTC Daily High vs Low')\n",
        "plt.legend(frameon=True, shadow=True)"
      ],
      "execution_count": 68,
      "outputs": [
        {
          "output_type": "execute_result",
          "data": {
            "text/plain": [
              "<matplotlib.legend.Legend at 0x7f463ae70cc0>"
            ]
          },
          "metadata": {
            "tags": []
          },
          "execution_count": 68
        },
        {
          "output_type": "display_data",
          "data": {
            "image/png": "[encoded data removed]",
            "text/plain": [
              "<Figure size 576x396 with 1 Axes>"
            ]
          },
          "metadata": {
            "tags": []
          }
        }
      ]
    },
    {
      "metadata": {
        "id": "BT9gdS7viJZa",
        "colab_type": "text"
      },
      "cell_type": "markdown",
      "source": [
        "### Assignment questions\n",
        "\n",
        "After you've worked on some code, answer the following questions in this text block:\n",
        "\n",
        "1.  Describe in a paragraph of text what you did and why, as if you were writing an email to somebody interested but nontechnical.\n",
        "\n",
        "First, I retrieved a dataset of Litecoin price information over the web from Quandl.com. I then checked it for missing values and got information on the \"shape\", or details, of the data. Next, I made a plot of the daily high and low trading prices for every day since the genesis block of Litecoin. I added color coding to each plot, labels to each axis,  a title, and a legend as well. \n",
        "\n",
        "2.  What was the most challenging part of what you did?\n",
        "\n",
        "The most challenging aspect of making this chart was figuring out how to effectively plot time-series data. I tried a couple different methods but ultimately fell back on the easy-to-use pyplot.plot module.\n",
        "\n",
        "3.  What was the most interesting thing you learned?\n",
        "\n",
        "The most interesting thing that I learned was that working with date & time data can be laborious due to formatting naunces, but that matplotlib also has a date module like the Python standard library full of helper functions. \n",
        "\n",
        "4.  What area would you like to explore with more time?\n",
        "\n",
        "Given more time I'd really like to look into seaborn's facilities for time-series plotting. Along with making plots that have more descriptive power like traditional stock plots for financial data, more interesting plots such as Ichimoku clouds would be good to explore.\n",
        "\n"
      ]
    },
    {
      "metadata": {
        "id": "_XXg2crAipwP",
        "colab_type": "text"
      },
      "cell_type": "markdown",
      "source": [
        "## Stretch goals and resources\n",
        "\n",
        "Following are *optional* things for you to take a look at. Focus on the above assignment first, and make sure to commit and push your changes to GitHub (and since this is the first assignment of the sprint, open a PR as well).\n",
        "\n",
        "- [pandas documentation](https://pandas.pydata.org/pandas-docs/stable/)\n",
        "- [scikit-learn documentation](http://scikit-learn.org/stable/documentation.html)\n",
        "- [matplotlib documentation](https://matplotlib.org/contents.html)\n",
        "- [Awesome Data Science](https://github.com/bulutyazilim/awesome-datascience) - a list of many types of DS resources\n",
        "\n",
        "Stretch goals:\n",
        "\n",
        "- Find and read blogs, walkthroughs, and other examples of people working through cool things with data science - and share with your classmates!\n",
        "- Write a blog post (Medium is a popular place to publish) introducing yourself as somebody learning data science, and talking about what you've learned already and what you're excited to learn more about."
      ]
    }
  ]
}