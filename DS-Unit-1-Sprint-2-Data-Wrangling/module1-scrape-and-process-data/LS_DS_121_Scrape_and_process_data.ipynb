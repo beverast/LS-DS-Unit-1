{
  "nbformat": 4,
  "nbformat_minor": 0,
  "metadata": {
    "colab": {
      "name": "LS_DS_121_Scrape_and_process_data.ipynb",
      "version": "0.3.2",
      "provenance": [],
      "collapsed_sections": [],
      "include_colab_link": true
    },
    "kernelspec": {
      "display_name": "Python 3",
      "language": "python",
      "name": "python3"
    }
  },
  "cells": [
    {
      "cell_type": "markdown",
      "metadata": {
        "id": "view-in-github",
        "colab_type": "text"
      },
      "source": [
        "<a href=\"https://colab.research.google.com/github/beverast/DS-Unit-1-Sprint-2-Data-Wrangling/blob/master/module1-scrape-and-process-data/LS_DS_121_Scrape_and_process_data.ipynb\" target=\"_parent\"><img src=\"https://colab.research.google.com/assets/colab-badge.svg\" alt=\"Open In Colab\"/></a>"
      ]
    },
    {
      "metadata": {
        "colab_type": "text",
        "id": "oR4Yeg3P07gu"
      },
      "cell_type": "markdown",
      "source": [
        "_Lambda School Data Science_\n",
        "\n",
        "# Scrape and process data\n",
        "\n",
        "Objectives\n",
        "- scrape and parse web pages\n",
        "- use list comprehensions\n",
        "- select rows and columns with pandas\n",
        "\n",
        "Links\n",
        "-  [Automate the Boring Stuff with Python, Chapter 11](https://automatetheboringstuff.com/chapter11/)\n",
        "  - Requests\n",
        "  - Beautiful Soup\n",
        "- [Python List Comprehensions: Explained Visually](https://treyhunner.com/2015/12/python-list-comprehensions-now-in-color/)\n",
        "- [Pandas Cheat Sheet](https://github.com/pandas-dev/pandas/blob/master/doc/cheatsheet/Pandas_Cheat_Sheet.pdf)\n",
        "  - Subset Observations (Rows)\n",
        "  - Subset Variables (Columns)\n",
        "- Python Data Science Handbook\n",
        "  - [Chapter 3.1](https://jakevdp.github.io/PythonDataScienceHandbook/03.01-introducing-pandas-objects.html), Introducing Pandas Objects\n",
        "  - [Chapter 3.2](https://jakevdp.github.io/PythonDataScienceHandbook/03.02-data-indexing-and-selection.html), Data Indexing and Selection\n"
      ]
    },
    {
      "metadata": {
        "colab_type": "text",
        "id": "I_NRVchqgGvM"
      },
      "cell_type": "markdown",
      "source": [
        "## Scrape the titles of PyCon 2019 talks"
      ]
    },
    {
      "metadata": {
        "colab_type": "code",
        "id": "3elw_8Nc7Tpe",
        "colab": {}
      },
      "cell_type": "code",
      "source": [
        "url = 'https://us.pycon.org/2019/schedule/talks/list/'"
      ],
      "execution_count": 0,
      "outputs": []
    },
    {
      "metadata": {
        "colab_type": "code",
        "id": "SFNsyjVsTU4b",
        "colab": {}
      },
      "cell_type": "code",
      "source": [
        "import bs4\n",
        "import requests\n",
        "\n",
        "\n",
        "result = requests.get(url)"
      ],
      "execution_count": 0,
      "outputs": []
    },
    {
      "metadata": {
        "id": "IB3dHQErfJUY",
        "colab_type": "code",
        "colab": {},
        "outputId": "5a711c86-dcbd-47a5-bbe0-636a2c63cef3"
      },
      "cell_type": "code",
      "source": [
        "result"
      ],
      "execution_count": 0,
      "outputs": [
        {
          "output_type": "execute_result",
          "data": {
            "text/plain": [
              "<Response [200]>"
            ]
          },
          "metadata": {
            "tags": []
          },
          "execution_count": 3
        }
      ]
    },
    {
      "metadata": {
        "id": "G_e67HDnfJUi",
        "colab_type": "code",
        "colab": {},
        "outputId": "9d910769-1bea-4e7c-9c86-dfc8ba726061"
      },
      "cell_type": "code",
      "source": [
        "type(result)"
      ],
      "execution_count": 0,
      "outputs": [
        {
          "output_type": "execute_result",
          "data": {
            "text/plain": [
              "requests.models.Response"
            ]
          },
          "metadata": {
            "tags": []
          },
          "execution_count": 4
        }
      ]
    },
    {
      "metadata": {
        "id": "fzHyeciWfJUq",
        "colab_type": "code",
        "colab": {},
        "outputId": "1ddee423-02b9-437c-b68d-7b6caa9938e2"
      },
      "cell_type": "code",
      "source": [
        "type(result.text)"
      ],
      "execution_count": 0,
      "outputs": [
        {
          "output_type": "execute_result",
          "data": {
            "text/plain": [
              "str"
            ]
          },
          "metadata": {
            "tags": []
          },
          "execution_count": 5
        }
      ]
    },
    {
      "metadata": {
        "id": "o5tru4TefJUw",
        "colab_type": "code",
        "colab": {},
        "outputId": "da6bb22e-14e0-4cf0-8df5-a6ba6a6fd2a8"
      },
      "cell_type": "code",
      "source": [
        "soup = bs4.BeautifulSoup(result.text)\n",
        "type(soup)"
      ],
      "execution_count": 0,
      "outputs": [
        {
          "output_type": "execute_result",
          "data": {
            "text/plain": [
              "bs4.BeautifulSoup"
            ]
          },
          "metadata": {
            "tags": []
          },
          "execution_count": 6
        }
      ]
    },
    {
      "metadata": {
        "id": "2q6sjzxIfJUz",
        "colab_type": "code",
        "colab": {}
      },
      "cell_type": "code",
      "source": [
        "soup.select('h2')"
      ],
      "execution_count": 0,
      "outputs": []
    },
    {
      "metadata": {
        "id": "q3YOYdGufJU2",
        "colab_type": "code",
        "colab": {},
        "outputId": "a34d3a0d-a7ac-45e7-9d5b-9e3aa64f9532"
      },
      "cell_type": "code",
      "source": [
        "type(soup.select('h2'))"
      ],
      "execution_count": 0,
      "outputs": [
        {
          "output_type": "execute_result",
          "data": {
            "text/plain": [
              "list"
            ]
          },
          "metadata": {
            "tags": []
          },
          "execution_count": 8
        }
      ]
    },
    {
      "metadata": {
        "id": "DHplCKwnfJU-",
        "colab_type": "code",
        "colab": {},
        "outputId": "09b9d768-5963-4771-e3c0-6cfe1a58d9e5"
      },
      "cell_type": "code",
      "source": [
        "len(soup.select('h2'))"
      ],
      "execution_count": 0,
      "outputs": [
        {
          "output_type": "execute_result",
          "data": {
            "text/plain": [
              "95"
            ]
          },
          "metadata": {
            "tags": []
          },
          "execution_count": 9
        }
      ]
    },
    {
      "metadata": {
        "id": "mh4y1jTBfJVE",
        "colab_type": "code",
        "colab": {},
        "outputId": "71b205aa-b68f-4fea-9fb0-06076e6fce4c"
      },
      "cell_type": "code",
      "source": [
        "first = soup.select('h2')[0]\n",
        "first"
      ],
      "execution_count": 0,
      "outputs": [
        {
          "output_type": "execute_result",
          "data": {
            "text/plain": [
              "<h2>\n",
              "<a href=\"/2019/schedule/presentation/235/\" id=\"presentation-235\">\n",
              "        5 Steps to Build Python Native GUI Widgets for BeeWare\n",
              "      </a>\n",
              "</h2>"
            ]
          },
          "metadata": {
            "tags": []
          },
          "execution_count": 10
        }
      ]
    },
    {
      "metadata": {
        "id": "zMXTry1cfJVH",
        "colab_type": "code",
        "colab": {},
        "outputId": "b0f25c84-012c-4777-d9c3-0e7d71e102a0"
      },
      "cell_type": "code",
      "source": [
        "type(first)"
      ],
      "execution_count": 0,
      "outputs": [
        {
          "output_type": "execute_result",
          "data": {
            "text/plain": [
              "bs4.element.Tag"
            ]
          },
          "metadata": {
            "tags": []
          },
          "execution_count": 11
        }
      ]
    },
    {
      "metadata": {
        "id": "cMSI_p2DfJVN",
        "colab_type": "code",
        "colab": {},
        "outputId": "38426fe2-8939-4d1e-f0b0-d9d766512dd5"
      },
      "cell_type": "code",
      "source": [
        "first.text"
      ],
      "execution_count": 0,
      "outputs": [
        {
          "output_type": "execute_result",
          "data": {
            "text/plain": [
              "'\\n\\n        5 Steps to Build Python Native GUI Widgets for BeeWare\\n      \\n'"
            ]
          },
          "metadata": {
            "tags": []
          },
          "execution_count": 12
        }
      ]
    },
    {
      "metadata": {
        "id": "_Xhh7tEzfJVV",
        "colab_type": "code",
        "colab": {},
        "outputId": "149afe1b-47e2-4c7d-d58a-6e03be2dde16"
      },
      "cell_type": "code",
      "source": [
        "type(first.text)"
      ],
      "execution_count": 0,
      "outputs": [
        {
          "output_type": "execute_result",
          "data": {
            "text/plain": [
              "str"
            ]
          },
          "metadata": {
            "tags": []
          },
          "execution_count": 13
        }
      ]
    },
    {
      "metadata": {
        "id": "ZlapwInlfJVc",
        "colab_type": "code",
        "colab": {},
        "outputId": "ec4fabd3-298f-470a-f910-ef94602b0cc2"
      },
      "cell_type": "code",
      "source": [
        "first.text.strip()"
      ],
      "execution_count": 0,
      "outputs": [
        {
          "output_type": "execute_result",
          "data": {
            "text/plain": [
              "'5 Steps to Build Python Native GUI Widgets for BeeWare'"
            ]
          },
          "metadata": {
            "tags": []
          },
          "execution_count": 14
        }
      ]
    },
    {
      "metadata": {
        "id": "qciRUlG3fJVj",
        "colab_type": "code",
        "colab": {},
        "outputId": "6fd1b7f0-5ad0-406f-9407-d3e12f79517f"
      },
      "cell_type": "code",
      "source": [
        "last = soup.select('h2')[-1]\n",
        "last.text.strip()"
      ],
      "execution_count": 0,
      "outputs": [
        {
          "output_type": "execute_result",
          "data": {
            "text/plain": [
              "\"Working with Time Zones: Everything You Wish You Didn't Need to Know\""
            ]
          },
          "metadata": {
            "tags": []
          },
          "execution_count": 15
        }
      ]
    },
    {
      "metadata": {
        "colab_type": "code",
        "id": "kKxs5tqDApuZ",
        "colab": {}
      },
      "cell_type": "code",
      "source": [
        "for_titles = []\n",
        "for tag in soup.select('h2'):\n",
        "    for_titles.append(tag.text.strip())\n",
        "for_titles"
      ],
      "execution_count": 0,
      "outputs": []
    },
    {
      "metadata": {
        "colab_type": "code",
        "id": "qaXe9UldAs3H",
        "colab": {},
        "outputId": "62c68894-a5b2-4f3b-8bad-cb926dcedb1d"
      },
      "cell_type": "code",
      "source": [
        "comp_titles = [tag.text.strip()\n",
        "               for tag in soup.select('h2')]\n",
        "for_titles == comp_titles"
      ],
      "execution_count": 0,
      "outputs": [
        {
          "output_type": "execute_result",
          "data": {
            "text/plain": [
              "True"
            ]
          },
          "metadata": {
            "tags": []
          },
          "execution_count": 17
        }
      ]
    },
    {
      "metadata": {
        "id": "sVeomLcmfJV5",
        "colab_type": "code",
        "colab": {},
        "outputId": "73e46b3d-3b44-4d29-b898-3b7dd66f1621"
      },
      "cell_type": "code",
      "source": [
        "type(comp_titles), len(comp_titles)"
      ],
      "execution_count": 0,
      "outputs": [
        {
          "output_type": "execute_result",
          "data": {
            "text/plain": [
              "(list, 95)"
            ]
          },
          "metadata": {
            "tags": []
          },
          "execution_count": 18
        }
      ]
    },
    {
      "metadata": {
        "id": "adquo4B5fJV_",
        "colab_type": "code",
        "colab": {},
        "outputId": "27eb49ea-a873-49b1-946d-e911b4837d40"
      },
      "cell_type": "code",
      "source": [
        "comp_titles[0], comp_titles[-1]"
      ],
      "execution_count": 0,
      "outputs": [
        {
          "output_type": "execute_result",
          "data": {
            "text/plain": [
              "('5 Steps to Build Python Native GUI Widgets for BeeWare',\n",
              " \"Working with Time Zones: Everything You Wish You Didn't Need to Know\")"
            ]
          },
          "metadata": {
            "tags": []
          },
          "execution_count": 19
        }
      ]
    },
    {
      "metadata": {
        "colab_type": "text",
        "id": "vqkNgAzYpeK7"
      },
      "cell_type": "markdown",
      "source": [
        "## 5 ways to look at long titles\n",
        "\n",
        "Let's define a long title as greater than 80 characters"
      ]
    },
    {
      "metadata": {
        "colab_type": "text",
        "id": "N7tqeZh14Fws"
      },
      "cell_type": "markdown",
      "source": [
        "### 1. For Loop"
      ]
    },
    {
      "metadata": {
        "id": "3wk4dhIifJWI",
        "colab_type": "code",
        "colab": {},
        "outputId": "d15f2f85-4a7e-4e81-90fc-21d636e315ba"
      },
      "cell_type": "code",
      "source": [
        "long_titles = []\n",
        "for title in for_titles:\n",
        "    if len(title) > 80:\n",
        "        long_titles.append(title)\n",
        "\n",
        "long_titles"
      ],
      "execution_count": 0,
      "outputs": [
        {
          "output_type": "execute_result",
          "data": {
            "text/plain": [
              "['¡Escuincla babosa!: Creating a telenovela script in three Python deep learning frameworks',\n",
              " 'Getting started with Deep Learning: Using Keras & Numpy to detect voice disorders',\n",
              " 'How to engage Python contributors in the long term? Tech is easy, people are hard.',\n",
              " 'Lessons learned from building a community of Python users among thousands of analysts',\n",
              " 'Life Is Better Painted Black, or: How to Stop Worrying and Embrace Auto-Formatting',\n",
              " 'One Engineer, an API, and an MVP: Or, how I spent one hour improving hiring data at my company.',\n",
              " 'Put down the deep learning: When not to use neural networks and what to do instead',\n",
              " 'Thinking Inside the Box: How Python Helped Us Adapt to An Existing Data Ingestion Pipeline']"
            ]
          },
          "metadata": {
            "tags": []
          },
          "execution_count": 20
        }
      ]
    },
    {
      "metadata": {
        "colab_type": "text",
        "id": "I21jcEnK4IN7"
      },
      "cell_type": "markdown",
      "source": [
        "### 2. List Comprehension"
      ]
    },
    {
      "metadata": {
        "id": "ymxalt-rfJWM",
        "colab_type": "code",
        "colab": {},
        "outputId": "f1573c41-9030-47f4-a3e6-673aec8db4a4"
      },
      "cell_type": "code",
      "source": [
        "[title for title in for_titles if len(title) > 80]"
      ],
      "execution_count": 0,
      "outputs": [
        {
          "output_type": "execute_result",
          "data": {
            "text/plain": [
              "['¡Escuincla babosa!: Creating a telenovela script in three Python deep learning frameworks',\n",
              " 'Getting started with Deep Learning: Using Keras & Numpy to detect voice disorders',\n",
              " 'How to engage Python contributors in the long term? Tech is easy, people are hard.',\n",
              " 'Lessons learned from building a community of Python users among thousands of analysts',\n",
              " 'Life Is Better Painted Black, or: How to Stop Worrying and Embrace Auto-Formatting',\n",
              " 'One Engineer, an API, and an MVP: Or, how I spent one hour improving hiring data at my company.',\n",
              " 'Put down the deep learning: When not to use neural networks and what to do instead',\n",
              " 'Thinking Inside the Box: How Python Helped Us Adapt to An Existing Data Ingestion Pipeline']"
            ]
          },
          "metadata": {
            "tags": []
          },
          "execution_count": 21
        }
      ]
    },
    {
      "metadata": {
        "colab_type": "text",
        "id": "2kn8pxL-4yMG"
      },
      "cell_type": "markdown",
      "source": [
        "### 3. Filter with named function"
      ]
    },
    {
      "metadata": {
        "colab_type": "code",
        "id": "ywLqqFJNAvFm",
        "colab": {},
        "outputId": "c2cc9c42-b0a6-4b6b-b487-677568677d1e"
      },
      "cell_type": "code",
      "source": [
        "def long(title):\n",
        "    return len(title) > 80\n",
        "\n",
        "long(long_titles[0])"
      ],
      "execution_count": 0,
      "outputs": [
        {
          "output_type": "execute_result",
          "data": {
            "text/plain": [
              "True"
            ]
          },
          "metadata": {
            "tags": []
          },
          "execution_count": 22
        }
      ]
    },
    {
      "metadata": {
        "colab_type": "text",
        "id": "IPIT6oXz40Q3"
      },
      "cell_type": "markdown",
      "source": [
        "### 4. Filter with anonymous function"
      ]
    },
    {
      "metadata": {
        "colab_type": "code",
        "id": "giIcFYkiAwiR",
        "colab": {},
        "outputId": "bc1a4e03-7c5b-47b6-84d6-ce455605017c"
      },
      "cell_type": "code",
      "source": [
        "titles = for_titles\n",
        "list(filter(long, titles))"
      ],
      "execution_count": 0,
      "outputs": [
        {
          "output_type": "execute_result",
          "data": {
            "text/plain": [
              "['¡Escuincla babosa!: Creating a telenovela script in three Python deep learning frameworks',\n",
              " 'Getting started with Deep Learning: Using Keras & Numpy to detect voice disorders',\n",
              " 'How to engage Python contributors in the long term? Tech is easy, people are hard.',\n",
              " 'Lessons learned from building a community of Python users among thousands of analysts',\n",
              " 'Life Is Better Painted Black, or: How to Stop Worrying and Embrace Auto-Formatting',\n",
              " 'One Engineer, an API, and an MVP: Or, how I spent one hour improving hiring data at my company.',\n",
              " 'Put down the deep learning: When not to use neural networks and what to do instead',\n",
              " 'Thinking Inside the Box: How Python Helped Us Adapt to An Existing Data Ingestion Pipeline']"
            ]
          },
          "metadata": {
            "tags": []
          },
          "execution_count": 23
        }
      ]
    },
    {
      "metadata": {
        "colab_type": "code",
        "id": "yRwPEHNcAzc_",
        "colab": {},
        "outputId": "a844267d-9397-41e3-c91a-b9225b0b4191"
      },
      "cell_type": "code",
      "source": [
        "list(filter(lambda t: len(t) > 80, titles))"
      ],
      "execution_count": 0,
      "outputs": [
        {
          "output_type": "execute_result",
          "data": {
            "text/plain": [
              "['¡Escuincla babosa!: Creating a telenovela script in three Python deep learning frameworks',\n",
              " 'Getting started with Deep Learning: Using Keras & Numpy to detect voice disorders',\n",
              " 'How to engage Python contributors in the long term? Tech is easy, people are hard.',\n",
              " 'Lessons learned from building a community of Python users among thousands of analysts',\n",
              " 'Life Is Better Painted Black, or: How to Stop Worrying and Embrace Auto-Formatting',\n",
              " 'One Engineer, an API, and an MVP: Or, how I spent one hour improving hiring data at my company.',\n",
              " 'Put down the deep learning: When not to use neural networks and what to do instead',\n",
              " 'Thinking Inside the Box: How Python Helped Us Adapt to An Existing Data Ingestion Pipeline']"
            ]
          },
          "metadata": {
            "tags": []
          },
          "execution_count": 24
        }
      ]
    },
    {
      "metadata": {
        "colab_type": "text",
        "id": "qj8Yod8_45z4"
      },
      "cell_type": "markdown",
      "source": [
        "### 5. Pandas\n",
        "\n",
        "pandas documentation: [Working with Text Data](https://pandas.pydata.org/pandas-docs/stable/text.html)"
      ]
    },
    {
      "metadata": {
        "id": "0IsbL852fJWn",
        "colab_type": "code",
        "colab": {}
      },
      "cell_type": "code",
      "source": [
        "import pandas as pd\n",
        "pd.options.display.max_colwidth = 200"
      ],
      "execution_count": 0,
      "outputs": []
    },
    {
      "metadata": {
        "id": "ekqTsF-EfJWp",
        "colab_type": "code",
        "colab": {},
        "outputId": "47da9a54-3be4-43fb-cf27-be2e653d53d8"
      },
      "cell_type": "code",
      "source": [
        "df = pd.DataFrame({'title': titles})\n",
        "df.shape"
      ],
      "execution_count": 0,
      "outputs": [
        {
          "output_type": "execute_result",
          "data": {
            "text/plain": [
              "(95, 1)"
            ]
          },
          "metadata": {
            "tags": []
          },
          "execution_count": 26
        }
      ]
    },
    {
      "metadata": {
        "id": "FezYVTZKfJWv",
        "colab_type": "code",
        "colab": {},
        "outputId": "29479c6f-909f-43d3-e53e-97fd87086333"
      },
      "cell_type": "code",
      "source": [
        "# Extract rows that meet logical criteria\n",
        "df[ df['title'].str.len() > 80 ]"
      ],
      "execution_count": 0,
      "outputs": [
        {
          "output_type": "execute_result",
          "data": {
            "text/html": [
              "<div>\n",
              "<style scoped>\n",
              "    .dataframe tbody tr th:only-of-type {\n",
              "        vertical-align: middle;\n",
              "    }\n",
              "\n",
              "    .dataframe tbody tr th {\n",
              "        vertical-align: top;\n",
              "    }\n",
              "\n",
              "    .dataframe thead th {\n",
              "        text-align: right;\n",
              "    }\n",
              "</style>\n",
              "<table border=\"1\" class=\"dataframe\">\n",
              "  <thead>\n",
              "    <tr style=\"text-align: right;\">\n",
              "      <th></th>\n",
              "      <th>title</th>\n",
              "    </tr>\n",
              "  </thead>\n",
              "  <tbody>\n",
              "    <tr>\n",
              "      <th>30</th>\n",
              "      <td>¡Escuincla babosa!: Creating a telenovela script in three Python deep learning frameworks</td>\n",
              "    </tr>\n",
              "    <tr>\n",
              "      <th>38</th>\n",
              "      <td>Getting started with Deep Learning: Using Keras &amp; Numpy to detect voice disorders</td>\n",
              "    </tr>\n",
              "    <tr>\n",
              "      <th>43</th>\n",
              "      <td>How to engage Python contributors in the long term? Tech is easy, people are hard.</td>\n",
              "    </tr>\n",
              "    <tr>\n",
              "      <th>48</th>\n",
              "      <td>Lessons learned from building a community of Python users among thousands of analysts</td>\n",
              "    </tr>\n",
              "    <tr>\n",
              "      <th>50</th>\n",
              "      <td>Life Is Better Painted Black, or: How to Stop Worrying and Embrace Auto-Formatting</td>\n",
              "    </tr>\n",
              "    <tr>\n",
              "      <th>60</th>\n",
              "      <td>One Engineer, an API, and an MVP: Or, how I spent one hour improving hiring data at my company.</td>\n",
              "    </tr>\n",
              "    <tr>\n",
              "      <th>66</th>\n",
              "      <td>Put down the deep learning: When not to use neural networks and what to do instead</td>\n",
              "    </tr>\n",
              "    <tr>\n",
              "      <th>84</th>\n",
              "      <td>Thinking Inside the Box: How Python Helped Us Adapt to An Existing Data Ingestion Pipeline</td>\n",
              "    </tr>\n",
              "  </tbody>\n",
              "</table>\n",
              "</div>"
            ],
            "text/plain": [
              "                                                                                              title\n",
              "30        ¡Escuincla babosa!: Creating a telenovela script in three Python deep learning frameworks\n",
              "38                Getting started with Deep Learning: Using Keras & Numpy to detect voice disorders\n",
              "43               How to engage Python contributors in the long term? Tech is easy, people are hard.\n",
              "48            Lessons learned from building a community of Python users among thousands of analysts\n",
              "50               Life Is Better Painted Black, or: How to Stop Worrying and Embrace Auto-Formatting\n",
              "60  One Engineer, an API, and an MVP: Or, how I spent one hour improving hiring data at my company.\n",
              "66               Put down the deep learning: When not to use neural networks and what to do instead\n",
              "84       Thinking Inside the Box: How Python Helped Us Adapt to An Existing Data Ingestion Pipeline"
            ]
          },
          "metadata": {
            "tags": []
          },
          "execution_count": 27
        }
      ]
    },
    {
      "metadata": {
        "id": "e2fKPwMhfJW5",
        "colab_type": "code",
        "colab": {}
      },
      "cell_type": "code",
      "source": [
        "df['title'].str.len()"
      ],
      "execution_count": 0,
      "outputs": []
    },
    {
      "metadata": {
        "id": "yKj1NazufJW7",
        "colab_type": "code",
        "colab": {},
        "outputId": "4446031f-9fdc-4959-e326-182d063a14e2"
      },
      "cell_type": "code",
      "source": [
        "# Using a mask on a DataFrame, similar to a SQL WHERE clause\n",
        "condition = df['title'].str.len() > 80\n",
        "df[condition]"
      ],
      "execution_count": 0,
      "outputs": [
        {
          "output_type": "execute_result",
          "data": {
            "text/html": [
              "<div>\n",
              "<style scoped>\n",
              "    .dataframe tbody tr th:only-of-type {\n",
              "        vertical-align: middle;\n",
              "    }\n",
              "\n",
              "    .dataframe tbody tr th {\n",
              "        vertical-align: top;\n",
              "    }\n",
              "\n",
              "    .dataframe thead th {\n",
              "        text-align: right;\n",
              "    }\n",
              "</style>\n",
              "<table border=\"1\" class=\"dataframe\">\n",
              "  <thead>\n",
              "    <tr style=\"text-align: right;\">\n",
              "      <th></th>\n",
              "      <th>title</th>\n",
              "    </tr>\n",
              "  </thead>\n",
              "  <tbody>\n",
              "    <tr>\n",
              "      <th>30</th>\n",
              "      <td>¡Escuincla babosa!: Creating a telenovela script in three Python deep learning frameworks</td>\n",
              "    </tr>\n",
              "    <tr>\n",
              "      <th>38</th>\n",
              "      <td>Getting started with Deep Learning: Using Keras &amp; Numpy to detect voice disorders</td>\n",
              "    </tr>\n",
              "    <tr>\n",
              "      <th>43</th>\n",
              "      <td>How to engage Python contributors in the long term? Tech is easy, people are hard.</td>\n",
              "    </tr>\n",
              "    <tr>\n",
              "      <th>48</th>\n",
              "      <td>Lessons learned from building a community of Python users among thousands of analysts</td>\n",
              "    </tr>\n",
              "    <tr>\n",
              "      <th>50</th>\n",
              "      <td>Life Is Better Painted Black, or: How to Stop Worrying and Embrace Auto-Formatting</td>\n",
              "    </tr>\n",
              "    <tr>\n",
              "      <th>60</th>\n",
              "      <td>One Engineer, an API, and an MVP: Or, how I spent one hour improving hiring data at my company.</td>\n",
              "    </tr>\n",
              "    <tr>\n",
              "      <th>66</th>\n",
              "      <td>Put down the deep learning: When not to use neural networks and what to do instead</td>\n",
              "    </tr>\n",
              "    <tr>\n",
              "      <th>84</th>\n",
              "      <td>Thinking Inside the Box: How Python Helped Us Adapt to An Existing Data Ingestion Pipeline</td>\n",
              "    </tr>\n",
              "  </tbody>\n",
              "</table>\n",
              "</div>"
            ],
            "text/plain": [
              "                                                                                              title\n",
              "30        ¡Escuincla babosa!: Creating a telenovela script in three Python deep learning frameworks\n",
              "38                Getting started with Deep Learning: Using Keras & Numpy to detect voice disorders\n",
              "43               How to engage Python contributors in the long term? Tech is easy, people are hard.\n",
              "48            Lessons learned from building a community of Python users among thousands of analysts\n",
              "50               Life Is Better Painted Black, or: How to Stop Worrying and Embrace Auto-Formatting\n",
              "60  One Engineer, an API, and an MVP: Or, how I spent one hour improving hiring data at my company.\n",
              "66               Put down the deep learning: When not to use neural networks and what to do instead\n",
              "84       Thinking Inside the Box: How Python Helped Us Adapt to An Existing Data Ingestion Pipeline"
            ]
          },
          "metadata": {
            "tags": []
          },
          "execution_count": 29
        }
      ]
    },
    {
      "metadata": {
        "colab_type": "text",
        "id": "8YaUZJvRp681"
      },
      "cell_type": "markdown",
      "source": [
        "## Make new dataframe columns\n",
        "\n",
        "pandas documentation: [apply](https://pandas.pydata.org/pandas-docs/stable/generated/pandas.Series.apply.html)"
      ]
    },
    {
      "metadata": {
        "colab_type": "text",
        "id": "Ua74pMrGrsZR"
      },
      "cell_type": "markdown",
      "source": [
        "### title length"
      ]
    },
    {
      "metadata": {
        "colab_type": "code",
        "id": "p-Euz7tgA8Fd",
        "colab": {},
        "outputId": "e9caeba2-9599-4aab-9773-c5348445126e"
      },
      "cell_type": "code",
      "source": [
        "df['title_length'] = df['title'].apply(len)\n",
        "df.head()"
      ],
      "execution_count": 0,
      "outputs": [
        {
          "output_type": "execute_result",
          "data": {
            "text/html": [
              "<div>\n",
              "<style scoped>\n",
              "    .dataframe tbody tr th:only-of-type {\n",
              "        vertical-align: middle;\n",
              "    }\n",
              "\n",
              "    .dataframe tbody tr th {\n",
              "        vertical-align: top;\n",
              "    }\n",
              "\n",
              "    .dataframe thead th {\n",
              "        text-align: right;\n",
              "    }\n",
              "</style>\n",
              "<table border=\"1\" class=\"dataframe\">\n",
              "  <thead>\n",
              "    <tr style=\"text-align: right;\">\n",
              "      <th></th>\n",
              "      <th>title</th>\n",
              "      <th>title_length</th>\n",
              "    </tr>\n",
              "  </thead>\n",
              "  <tbody>\n",
              "    <tr>\n",
              "      <th>0</th>\n",
              "      <td>5 Steps to Build Python Native GUI Widgets for BeeWare</td>\n",
              "      <td>54</td>\n",
              "    </tr>\n",
              "    <tr>\n",
              "      <th>1</th>\n",
              "      <td>8 things that happen at the dot:  Attribute Access &amp; Descriptors</td>\n",
              "      <td>64</td>\n",
              "    </tr>\n",
              "    <tr>\n",
              "      <th>2</th>\n",
              "      <td>Account Security Patterns: How Logged-In Are you?</td>\n",
              "      <td>49</td>\n",
              "    </tr>\n",
              "    <tr>\n",
              "      <th>3</th>\n",
              "      <td>Ace Your Technical Interview Using Python</td>\n",
              "      <td>41</td>\n",
              "    </tr>\n",
              "    <tr>\n",
              "      <th>4</th>\n",
              "      <td>Advanced asyncio: Solving Real-world Production Problems</td>\n",
              "      <td>56</td>\n",
              "    </tr>\n",
              "  </tbody>\n",
              "</table>\n",
              "</div>"
            ],
            "text/plain": [
              "                                                              title  \\\n",
              "0            5 Steps to Build Python Native GUI Widgets for BeeWare   \n",
              "1  8 things that happen at the dot:  Attribute Access & Descriptors   \n",
              "2                 Account Security Patterns: How Logged-In Are you?   \n",
              "3                         Ace Your Technical Interview Using Python   \n",
              "4          Advanced asyncio: Solving Real-world Production Problems   \n",
              "\n",
              "   title_length  \n",
              "0            54  \n",
              "1            64  \n",
              "2            49  \n",
              "3            41  \n",
              "4            56  "
            ]
          },
          "metadata": {
            "tags": []
          },
          "execution_count": 30
        }
      ]
    },
    {
      "metadata": {
        "colab_type": "code",
        "id": "b_WCRvvKA-IP",
        "colab": {},
        "outputId": "8d912eec-b4fb-433e-a3e1-f4045c0d9d8b"
      },
      "cell_type": "code",
      "source": [
        "df[ df['title_length'] > 80]"
      ],
      "execution_count": 0,
      "outputs": [
        {
          "output_type": "execute_result",
          "data": {
            "text/html": [
              "<div>\n",
              "<style scoped>\n",
              "    .dataframe tbody tr th:only-of-type {\n",
              "        vertical-align: middle;\n",
              "    }\n",
              "\n",
              "    .dataframe tbody tr th {\n",
              "        vertical-align: top;\n",
              "    }\n",
              "\n",
              "    .dataframe thead th {\n",
              "        text-align: right;\n",
              "    }\n",
              "</style>\n",
              "<table border=\"1\" class=\"dataframe\">\n",
              "  <thead>\n",
              "    <tr style=\"text-align: right;\">\n",
              "      <th></th>\n",
              "      <th>title</th>\n",
              "      <th>title_length</th>\n",
              "    </tr>\n",
              "  </thead>\n",
              "  <tbody>\n",
              "    <tr>\n",
              "      <th>30</th>\n",
              "      <td>¡Escuincla babosa!: Creating a telenovela script in three Python deep learning frameworks</td>\n",
              "      <td>89</td>\n",
              "    </tr>\n",
              "    <tr>\n",
              "      <th>38</th>\n",
              "      <td>Getting started with Deep Learning: Using Keras &amp; Numpy to detect voice disorders</td>\n",
              "      <td>81</td>\n",
              "    </tr>\n",
              "    <tr>\n",
              "      <th>43</th>\n",
              "      <td>How to engage Python contributors in the long term? Tech is easy, people are hard.</td>\n",
              "      <td>82</td>\n",
              "    </tr>\n",
              "    <tr>\n",
              "      <th>48</th>\n",
              "      <td>Lessons learned from building a community of Python users among thousands of analysts</td>\n",
              "      <td>85</td>\n",
              "    </tr>\n",
              "    <tr>\n",
              "      <th>50</th>\n",
              "      <td>Life Is Better Painted Black, or: How to Stop Worrying and Embrace Auto-Formatting</td>\n",
              "      <td>82</td>\n",
              "    </tr>\n",
              "    <tr>\n",
              "      <th>60</th>\n",
              "      <td>One Engineer, an API, and an MVP: Or, how I spent one hour improving hiring data at my company.</td>\n",
              "      <td>95</td>\n",
              "    </tr>\n",
              "    <tr>\n",
              "      <th>66</th>\n",
              "      <td>Put down the deep learning: When not to use neural networks and what to do instead</td>\n",
              "      <td>82</td>\n",
              "    </tr>\n",
              "    <tr>\n",
              "      <th>84</th>\n",
              "      <td>Thinking Inside the Box: How Python Helped Us Adapt to An Existing Data Ingestion Pipeline</td>\n",
              "      <td>90</td>\n",
              "    </tr>\n",
              "  </tbody>\n",
              "</table>\n",
              "</div>"
            ],
            "text/plain": [
              "                                                                                              title  \\\n",
              "30        ¡Escuincla babosa!: Creating a telenovela script in three Python deep learning frameworks   \n",
              "38                Getting started with Deep Learning: Using Keras & Numpy to detect voice disorders   \n",
              "43               How to engage Python contributors in the long term? Tech is easy, people are hard.   \n",
              "48            Lessons learned from building a community of Python users among thousands of analysts   \n",
              "50               Life Is Better Painted Black, or: How to Stop Worrying and Embrace Auto-Formatting   \n",
              "60  One Engineer, an API, and an MVP: Or, how I spent one hour improving hiring data at my company.   \n",
              "66               Put down the deep learning: When not to use neural networks and what to do instead   \n",
              "84       Thinking Inside the Box: How Python Helped Us Adapt to An Existing Data Ingestion Pipeline   \n",
              "\n",
              "    title_length  \n",
              "30            89  \n",
              "38            81  \n",
              "43            82  \n",
              "48            85  \n",
              "50            82  \n",
              "60            95  \n",
              "66            82  \n",
              "84            90  "
            ]
          },
          "metadata": {
            "tags": []
          },
          "execution_count": 31
        }
      ]
    },
    {
      "metadata": {
        "id": "SWXuUf77fJXJ",
        "colab_type": "code",
        "colab": {},
        "outputId": "ba2fcae8-8b2b-4978-cd64-d314e8226f91"
      },
      "cell_type": "code",
      "source": [
        "df.loc[ df['title_length'] > 80, 'title']"
      ],
      "execution_count": 0,
      "outputs": [
        {
          "output_type": "execute_result",
          "data": {
            "text/plain": [
              "30          ¡Escuincla babosa!: Creating a telenovela script in three Python deep learning frameworks\n",
              "38                  Getting started with Deep Learning: Using Keras & Numpy to detect voice disorders\n",
              "43                 How to engage Python contributors in the long term? Tech is easy, people are hard.\n",
              "48              Lessons learned from building a community of Python users among thousands of analysts\n",
              "50                 Life Is Better Painted Black, or: How to Stop Worrying and Embrace Auto-Formatting\n",
              "60    One Engineer, an API, and an MVP: Or, how I spent one hour improving hiring data at my company.\n",
              "66                 Put down the deep learning: When not to use neural networks and what to do instead\n",
              "84         Thinking Inside the Box: How Python Helped Us Adapt to An Existing Data Ingestion Pipeline\n",
              "Name: title, dtype: object"
            ]
          },
          "metadata": {
            "tags": []
          },
          "execution_count": 32
        }
      ]
    },
    {
      "metadata": {
        "colab_type": "text",
        "id": "OgsKArXPrz5n"
      },
      "cell_type": "markdown",
      "source": [
        "### long title"
      ]
    },
    {
      "metadata": {
        "id": "ojdC5PelfJXT",
        "colab_type": "code",
        "colab": {},
        "outputId": "13b55495-2e60-4288-86c6-e301c8df557f"
      },
      "cell_type": "code",
      "source": [
        "df['long_title'] = df['title_length'] > 80\n",
        "df.head()"
      ],
      "execution_count": 0,
      "outputs": [
        {
          "output_type": "execute_result",
          "data": {
            "text/html": [
              "<div>\n",
              "<style scoped>\n",
              "    .dataframe tbody tr th:only-of-type {\n",
              "        vertical-align: middle;\n",
              "    }\n",
              "\n",
              "    .dataframe tbody tr th {\n",
              "        vertical-align: top;\n",
              "    }\n",
              "\n",
              "    .dataframe thead th {\n",
              "        text-align: right;\n",
              "    }\n",
              "</style>\n",
              "<table border=\"1\" class=\"dataframe\">\n",
              "  <thead>\n",
              "    <tr style=\"text-align: right;\">\n",
              "      <th></th>\n",
              "      <th>title</th>\n",
              "      <th>title_length</th>\n",
              "      <th>long_title</th>\n",
              "    </tr>\n",
              "  </thead>\n",
              "  <tbody>\n",
              "    <tr>\n",
              "      <th>0</th>\n",
              "      <td>5 Steps to Build Python Native GUI Widgets for BeeWare</td>\n",
              "      <td>54</td>\n",
              "      <td>False</td>\n",
              "    </tr>\n",
              "    <tr>\n",
              "      <th>1</th>\n",
              "      <td>8 things that happen at the dot:  Attribute Access &amp; Descriptors</td>\n",
              "      <td>64</td>\n",
              "      <td>False</td>\n",
              "    </tr>\n",
              "    <tr>\n",
              "      <th>2</th>\n",
              "      <td>Account Security Patterns: How Logged-In Are you?</td>\n",
              "      <td>49</td>\n",
              "      <td>False</td>\n",
              "    </tr>\n",
              "    <tr>\n",
              "      <th>3</th>\n",
              "      <td>Ace Your Technical Interview Using Python</td>\n",
              "      <td>41</td>\n",
              "      <td>False</td>\n",
              "    </tr>\n",
              "    <tr>\n",
              "      <th>4</th>\n",
              "      <td>Advanced asyncio: Solving Real-world Production Problems</td>\n",
              "      <td>56</td>\n",
              "      <td>False</td>\n",
              "    </tr>\n",
              "  </tbody>\n",
              "</table>\n",
              "</div>"
            ],
            "text/plain": [
              "                                                              title  \\\n",
              "0            5 Steps to Build Python Native GUI Widgets for BeeWare   \n",
              "1  8 things that happen at the dot:  Attribute Access & Descriptors   \n",
              "2                 Account Security Patterns: How Logged-In Are you?   \n",
              "3                         Ace Your Technical Interview Using Python   \n",
              "4          Advanced asyncio: Solving Real-world Production Problems   \n",
              "\n",
              "   title_length  long_title  \n",
              "0            54       False  \n",
              "1            64       False  \n",
              "2            49       False  \n",
              "3            41       False  \n",
              "4            56       False  "
            ]
          },
          "metadata": {
            "tags": []
          },
          "execution_count": 33
        }
      ]
    },
    {
      "metadata": {
        "id": "kBmGUOgefJXd",
        "colab_type": "code",
        "colab": {},
        "outputId": "ae6b557d-4634-484b-d706-53f1162674a6"
      },
      "cell_type": "code",
      "source": [
        "df[ df['long_title'] == True]"
      ],
      "execution_count": 0,
      "outputs": [
        {
          "output_type": "execute_result",
          "data": {
            "text/html": [
              "<div>\n",
              "<style scoped>\n",
              "    .dataframe tbody tr th:only-of-type {\n",
              "        vertical-align: middle;\n",
              "    }\n",
              "\n",
              "    .dataframe tbody tr th {\n",
              "        vertical-align: top;\n",
              "    }\n",
              "\n",
              "    .dataframe thead th {\n",
              "        text-align: right;\n",
              "    }\n",
              "</style>\n",
              "<table border=\"1\" class=\"dataframe\">\n",
              "  <thead>\n",
              "    <tr style=\"text-align: right;\">\n",
              "      <th></th>\n",
              "      <th>title</th>\n",
              "      <th>title_length</th>\n",
              "      <th>long_title</th>\n",
              "    </tr>\n",
              "  </thead>\n",
              "  <tbody>\n",
              "    <tr>\n",
              "      <th>30</th>\n",
              "      <td>¡Escuincla babosa!: Creating a telenovela script in three Python deep learning frameworks</td>\n",
              "      <td>89</td>\n",
              "      <td>True</td>\n",
              "    </tr>\n",
              "    <tr>\n",
              "      <th>38</th>\n",
              "      <td>Getting started with Deep Learning: Using Keras &amp; Numpy to detect voice disorders</td>\n",
              "      <td>81</td>\n",
              "      <td>True</td>\n",
              "    </tr>\n",
              "    <tr>\n",
              "      <th>43</th>\n",
              "      <td>How to engage Python contributors in the long term? Tech is easy, people are hard.</td>\n",
              "      <td>82</td>\n",
              "      <td>True</td>\n",
              "    </tr>\n",
              "    <tr>\n",
              "      <th>48</th>\n",
              "      <td>Lessons learned from building a community of Python users among thousands of analysts</td>\n",
              "      <td>85</td>\n",
              "      <td>True</td>\n",
              "    </tr>\n",
              "    <tr>\n",
              "      <th>50</th>\n",
              "      <td>Life Is Better Painted Black, or: How to Stop Worrying and Embrace Auto-Formatting</td>\n",
              "      <td>82</td>\n",
              "      <td>True</td>\n",
              "    </tr>\n",
              "    <tr>\n",
              "      <th>60</th>\n",
              "      <td>One Engineer, an API, and an MVP: Or, how I spent one hour improving hiring data at my company.</td>\n",
              "      <td>95</td>\n",
              "      <td>True</td>\n",
              "    </tr>\n",
              "    <tr>\n",
              "      <th>66</th>\n",
              "      <td>Put down the deep learning: When not to use neural networks and what to do instead</td>\n",
              "      <td>82</td>\n",
              "      <td>True</td>\n",
              "    </tr>\n",
              "    <tr>\n",
              "      <th>84</th>\n",
              "      <td>Thinking Inside the Box: How Python Helped Us Adapt to An Existing Data Ingestion Pipeline</td>\n",
              "      <td>90</td>\n",
              "      <td>True</td>\n",
              "    </tr>\n",
              "  </tbody>\n",
              "</table>\n",
              "</div>"
            ],
            "text/plain": [
              "                                                                                              title  \\\n",
              "30        ¡Escuincla babosa!: Creating a telenovela script in three Python deep learning frameworks   \n",
              "38                Getting started with Deep Learning: Using Keras & Numpy to detect voice disorders   \n",
              "43               How to engage Python contributors in the long term? Tech is easy, people are hard.   \n",
              "48            Lessons learned from building a community of Python users among thousands of analysts   \n",
              "50               Life Is Better Painted Black, or: How to Stop Worrying and Embrace Auto-Formatting   \n",
              "60  One Engineer, an API, and an MVP: Or, how I spent one hour improving hiring data at my company.   \n",
              "66               Put down the deep learning: When not to use neural networks and what to do instead   \n",
              "84       Thinking Inside the Box: How Python Helped Us Adapt to An Existing Data Ingestion Pipeline   \n",
              "\n",
              "    title_length  long_title  \n",
              "30            89        True  \n",
              "38            81        True  \n",
              "43            82        True  \n",
              "48            85        True  \n",
              "50            82        True  \n",
              "60            95        True  \n",
              "66            82        True  \n",
              "84            90        True  "
            ]
          },
          "metadata": {
            "tags": []
          },
          "execution_count": 34
        }
      ]
    },
    {
      "metadata": {
        "id": "B2KkxgXTfJXh",
        "colab_type": "code",
        "colab": {}
      },
      "cell_type": "code",
      "source": [
        "# Tilde operator is an inversion\n",
        "df[~df['long_title']]"
      ],
      "execution_count": 0,
      "outputs": []
    },
    {
      "metadata": {
        "colab_type": "text",
        "id": "TonCXYPesUsT"
      },
      "cell_type": "markdown",
      "source": [
        "### first letter"
      ]
    },
    {
      "metadata": {
        "colab_type": "code",
        "id": "fhO4aABpBBgA",
        "colab": {}
      },
      "cell_type": "code",
      "source": [
        "df['first_letter'] = df['title'].str[0]"
      ],
      "execution_count": 0,
      "outputs": []
    },
    {
      "metadata": {
        "id": "T9cXtkstfJXp",
        "colab_type": "code",
        "colab": {},
        "outputId": "d6f3eb83-69e5-45d9-c7f8-6dfb0250a263"
      },
      "cell_type": "code",
      "source": [
        "df[ df['first_letter'] == 'P' ]"
      ],
      "execution_count": 0,
      "outputs": [
        {
          "output_type": "execute_result",
          "data": {
            "text/html": [
              "<div>\n",
              "<style scoped>\n",
              "    .dataframe tbody tr th:only-of-type {\n",
              "        vertical-align: middle;\n",
              "    }\n",
              "\n",
              "    .dataframe tbody tr th {\n",
              "        vertical-align: top;\n",
              "    }\n",
              "\n",
              "    .dataframe thead th {\n",
              "        text-align: right;\n",
              "    }\n",
              "</style>\n",
              "<table border=\"1\" class=\"dataframe\">\n",
              "  <thead>\n",
              "    <tr style=\"text-align: right;\">\n",
              "      <th></th>\n",
              "      <th>title</th>\n",
              "      <th>title_length</th>\n",
              "      <th>long_title</th>\n",
              "      <th>first_letter</th>\n",
              "    </tr>\n",
              "  </thead>\n",
              "  <tbody>\n",
              "    <tr>\n",
              "      <th>61</th>\n",
              "      <td>Plan your next eclipse viewing with Jupyter and geopandas</td>\n",
              "      <td>57</td>\n",
              "      <td>False</td>\n",
              "      <td>P</td>\n",
              "    </tr>\n",
              "    <tr>\n",
              "      <th>62</th>\n",
              "      <td>Plugins: Adding Flexibility to Your Apps</td>\n",
              "      <td>40</td>\n",
              "      <td>False</td>\n",
              "      <td>P</td>\n",
              "    </tr>\n",
              "    <tr>\n",
              "      <th>63</th>\n",
              "      <td>Plug-n-Stream Player Piano: Signal Processing With Python</td>\n",
              "      <td>57</td>\n",
              "      <td>False</td>\n",
              "      <td>P</td>\n",
              "    </tr>\n",
              "    <tr>\n",
              "      <th>64</th>\n",
              "      <td>Practical decorators</td>\n",
              "      <td>20</td>\n",
              "      <td>False</td>\n",
              "      <td>P</td>\n",
              "    </tr>\n",
              "    <tr>\n",
              "      <th>65</th>\n",
              "      <td>Programmatic Notebooks with papermill</td>\n",
              "      <td>37</td>\n",
              "      <td>False</td>\n",
              "      <td>P</td>\n",
              "    </tr>\n",
              "    <tr>\n",
              "      <th>66</th>\n",
              "      <td>Put down the deep learning: When not to use neural networks and what to do instead</td>\n",
              "      <td>82</td>\n",
              "      <td>True</td>\n",
              "      <td>P</td>\n",
              "    </tr>\n",
              "    <tr>\n",
              "      <th>67</th>\n",
              "      <td>Python on Windows is Okay, Actually</td>\n",
              "      <td>35</td>\n",
              "      <td>False</td>\n",
              "      <td>P</td>\n",
              "    </tr>\n",
              "    <tr>\n",
              "      <th>68</th>\n",
              "      <td>Python Security Tools</td>\n",
              "      <td>21</td>\n",
              "      <td>False</td>\n",
              "      <td>P</td>\n",
              "    </tr>\n",
              "  </tbody>\n",
              "</table>\n",
              "</div>"
            ],
            "text/plain": [
              "                                                                                 title  \\\n",
              "61                           Plan your next eclipse viewing with Jupyter and geopandas   \n",
              "62                                            Plugins: Adding Flexibility to Your Apps   \n",
              "63                           Plug-n-Stream Player Piano: Signal Processing With Python   \n",
              "64                                                                Practical decorators   \n",
              "65                                               Programmatic Notebooks with papermill   \n",
              "66  Put down the deep learning: When not to use neural networks and what to do instead   \n",
              "67                                                 Python on Windows is Okay, Actually   \n",
              "68                                                               Python Security Tools   \n",
              "\n",
              "    title_length  long_title first_letter  \n",
              "61            57       False            P  \n",
              "62            40       False            P  \n",
              "63            57       False            P  \n",
              "64            20       False            P  \n",
              "65            37       False            P  \n",
              "66            82        True            P  \n",
              "67            35       False            P  \n",
              "68            21       False            P  "
            ]
          },
          "metadata": {
            "tags": []
          },
          "execution_count": 37
        }
      ]
    },
    {
      "metadata": {
        "id": "9lEiv-_DfJXz",
        "colab_type": "code",
        "colab": {},
        "outputId": "0a612460-10c1-4a81-99d6-f90e739d231c"
      },
      "cell_type": "code",
      "source": [
        "# You can normalize this search by using str.lower() first, for example.\n",
        "df[ df['title'].str.startswith('P') ]"
      ],
      "execution_count": 0,
      "outputs": [
        {
          "output_type": "execute_result",
          "data": {
            "text/html": [
              "<div>\n",
              "<style scoped>\n",
              "    .dataframe tbody tr th:only-of-type {\n",
              "        vertical-align: middle;\n",
              "    }\n",
              "\n",
              "    .dataframe tbody tr th {\n",
              "        vertical-align: top;\n",
              "    }\n",
              "\n",
              "    .dataframe thead th {\n",
              "        text-align: right;\n",
              "    }\n",
              "</style>\n",
              "<table border=\"1\" class=\"dataframe\">\n",
              "  <thead>\n",
              "    <tr style=\"text-align: right;\">\n",
              "      <th></th>\n",
              "      <th>title</th>\n",
              "      <th>title_length</th>\n",
              "      <th>long_title</th>\n",
              "      <th>first_letter</th>\n",
              "    </tr>\n",
              "  </thead>\n",
              "  <tbody>\n",
              "    <tr>\n",
              "      <th>61</th>\n",
              "      <td>Plan your next eclipse viewing with Jupyter and geopandas</td>\n",
              "      <td>57</td>\n",
              "      <td>False</td>\n",
              "      <td>P</td>\n",
              "    </tr>\n",
              "    <tr>\n",
              "      <th>62</th>\n",
              "      <td>Plugins: Adding Flexibility to Your Apps</td>\n",
              "      <td>40</td>\n",
              "      <td>False</td>\n",
              "      <td>P</td>\n",
              "    </tr>\n",
              "    <tr>\n",
              "      <th>63</th>\n",
              "      <td>Plug-n-Stream Player Piano: Signal Processing With Python</td>\n",
              "      <td>57</td>\n",
              "      <td>False</td>\n",
              "      <td>P</td>\n",
              "    </tr>\n",
              "    <tr>\n",
              "      <th>64</th>\n",
              "      <td>Practical decorators</td>\n",
              "      <td>20</td>\n",
              "      <td>False</td>\n",
              "      <td>P</td>\n",
              "    </tr>\n",
              "    <tr>\n",
              "      <th>65</th>\n",
              "      <td>Programmatic Notebooks with papermill</td>\n",
              "      <td>37</td>\n",
              "      <td>False</td>\n",
              "      <td>P</td>\n",
              "    </tr>\n",
              "    <tr>\n",
              "      <th>66</th>\n",
              "      <td>Put down the deep learning: When not to use neural networks and what to do instead</td>\n",
              "      <td>82</td>\n",
              "      <td>True</td>\n",
              "      <td>P</td>\n",
              "    </tr>\n",
              "    <tr>\n",
              "      <th>67</th>\n",
              "      <td>Python on Windows is Okay, Actually</td>\n",
              "      <td>35</td>\n",
              "      <td>False</td>\n",
              "      <td>P</td>\n",
              "    </tr>\n",
              "    <tr>\n",
              "      <th>68</th>\n",
              "      <td>Python Security Tools</td>\n",
              "      <td>21</td>\n",
              "      <td>False</td>\n",
              "      <td>P</td>\n",
              "    </tr>\n",
              "  </tbody>\n",
              "</table>\n",
              "</div>"
            ],
            "text/plain": [
              "                                                                                 title  \\\n",
              "61                           Plan your next eclipse viewing with Jupyter and geopandas   \n",
              "62                                            Plugins: Adding Flexibility to Your Apps   \n",
              "63                           Plug-n-Stream Player Piano: Signal Processing With Python   \n",
              "64                                                                Practical decorators   \n",
              "65                                               Programmatic Notebooks with papermill   \n",
              "66  Put down the deep learning: When not to use neural networks and what to do instead   \n",
              "67                                                 Python on Windows is Okay, Actually   \n",
              "68                                                               Python Security Tools   \n",
              "\n",
              "    title_length  long_title first_letter  \n",
              "61            57       False            P  \n",
              "62            40       False            P  \n",
              "63            57       False            P  \n",
              "64            20       False            P  \n",
              "65            37       False            P  \n",
              "66            82        True            P  \n",
              "67            35       False            P  \n",
              "68            21       False            P  "
            ]
          },
          "metadata": {
            "tags": []
          },
          "execution_count": 38
        }
      ]
    },
    {
      "metadata": {
        "colab_type": "text",
        "id": "Etz1XeLKs6DL"
      },
      "cell_type": "markdown",
      "source": [
        "### word count\n",
        "\n",
        "Using [`textstat`](https://github.com/shivam5992/textstat)"
      ]
    },
    {
      "metadata": {
        "colab_type": "code",
        "id": "mY_M_MuaBFrF",
        "colab": {}
      },
      "cell_type": "code",
      "source": [
        "import textstat"
      ],
      "execution_count": 0,
      "outputs": []
    },
    {
      "metadata": {
        "id": "_FitnudKfJX6",
        "colab_type": "code",
        "colab": {}
      },
      "cell_type": "code",
      "source": [
        "df['title_word_count'] = df['title'].apply(textstat.lexicon_count)"
      ],
      "execution_count": 0,
      "outputs": []
    },
    {
      "metadata": {
        "id": "UaxlRf3KfJX-",
        "colab_type": "code",
        "colab": {},
        "outputId": "a2020d5d-2a2d-4e01-9e87-e8d6a74d6d6a"
      },
      "cell_type": "code",
      "source": [
        "df.head()"
      ],
      "execution_count": 0,
      "outputs": [
        {
          "output_type": "execute_result",
          "data": {
            "text/html": [
              "<div>\n",
              "<style scoped>\n",
              "    .dataframe tbody tr th:only-of-type {\n",
              "        vertical-align: middle;\n",
              "    }\n",
              "\n",
              "    .dataframe tbody tr th {\n",
              "        vertical-align: top;\n",
              "    }\n",
              "\n",
              "    .dataframe thead th {\n",
              "        text-align: right;\n",
              "    }\n",
              "</style>\n",
              "<table border=\"1\" class=\"dataframe\">\n",
              "  <thead>\n",
              "    <tr style=\"text-align: right;\">\n",
              "      <th></th>\n",
              "      <th>title</th>\n",
              "      <th>title_length</th>\n",
              "      <th>long_title</th>\n",
              "      <th>first_letter</th>\n",
              "      <th>title_word_count</th>\n",
              "    </tr>\n",
              "  </thead>\n",
              "  <tbody>\n",
              "    <tr>\n",
              "      <th>0</th>\n",
              "      <td>5 Steps to Build Python Native GUI Widgets for BeeWare</td>\n",
              "      <td>54</td>\n",
              "      <td>False</td>\n",
              "      <td>5</td>\n",
              "      <td>10</td>\n",
              "    </tr>\n",
              "    <tr>\n",
              "      <th>1</th>\n",
              "      <td>8 things that happen at the dot:  Attribute Access &amp; Descriptors</td>\n",
              "      <td>64</td>\n",
              "      <td>False</td>\n",
              "      <td>8</td>\n",
              "      <td>10</td>\n",
              "    </tr>\n",
              "    <tr>\n",
              "      <th>2</th>\n",
              "      <td>Account Security Patterns: How Logged-In Are you?</td>\n",
              "      <td>49</td>\n",
              "      <td>False</td>\n",
              "      <td>A</td>\n",
              "      <td>7</td>\n",
              "    </tr>\n",
              "    <tr>\n",
              "      <th>3</th>\n",
              "      <td>Ace Your Technical Interview Using Python</td>\n",
              "      <td>41</td>\n",
              "      <td>False</td>\n",
              "      <td>A</td>\n",
              "      <td>6</td>\n",
              "    </tr>\n",
              "    <tr>\n",
              "      <th>4</th>\n",
              "      <td>Advanced asyncio: Solving Real-world Production Problems</td>\n",
              "      <td>56</td>\n",
              "      <td>False</td>\n",
              "      <td>A</td>\n",
              "      <td>6</td>\n",
              "    </tr>\n",
              "  </tbody>\n",
              "</table>\n",
              "</div>"
            ],
            "text/plain": [
              "                                                              title  \\\n",
              "0            5 Steps to Build Python Native GUI Widgets for BeeWare   \n",
              "1  8 things that happen at the dot:  Attribute Access & Descriptors   \n",
              "2                 Account Security Patterns: How Logged-In Are you?   \n",
              "3                         Ace Your Technical Interview Using Python   \n",
              "4          Advanced asyncio: Solving Real-world Production Problems   \n",
              "\n",
              "   title_length  long_title first_letter  title_word_count  \n",
              "0            54       False            5                10  \n",
              "1            64       False            8                10  \n",
              "2            49       False            A                 7  \n",
              "3            41       False            A                 6  \n",
              "4            56       False            A                 6  "
            ]
          },
          "metadata": {
            "tags": []
          },
          "execution_count": 41
        }
      ]
    },
    {
      "metadata": {
        "id": "R9aZS5QwfJYE",
        "colab_type": "code",
        "colab": {},
        "outputId": "2f068197-a048-4e71-c054-3e82fbc5f89c"
      },
      "cell_type": "code",
      "source": [
        "df[ df['title_word_count'] <= 3 ]"
      ],
      "execution_count": 0,
      "outputs": [
        {
          "output_type": "execute_result",
          "data": {
            "text/html": [
              "<div>\n",
              "<style scoped>\n",
              "    .dataframe tbody tr th:only-of-type {\n",
              "        vertical-align: middle;\n",
              "    }\n",
              "\n",
              "    .dataframe tbody tr th {\n",
              "        vertical-align: top;\n",
              "    }\n",
              "\n",
              "    .dataframe thead th {\n",
              "        text-align: right;\n",
              "    }\n",
              "</style>\n",
              "<table border=\"1\" class=\"dataframe\">\n",
              "  <thead>\n",
              "    <tr style=\"text-align: right;\">\n",
              "      <th></th>\n",
              "      <th>title</th>\n",
              "      <th>title_length</th>\n",
              "      <th>long_title</th>\n",
              "      <th>first_letter</th>\n",
              "      <th>title_word_count</th>\n",
              "    </tr>\n",
              "  </thead>\n",
              "  <tbody>\n",
              "    <tr>\n",
              "      <th>56</th>\n",
              "      <td>Measuring Model Fairness</td>\n",
              "      <td>24</td>\n",
              "      <td>False</td>\n",
              "      <td>M</td>\n",
              "      <td>3</td>\n",
              "    </tr>\n",
              "    <tr>\n",
              "      <th>64</th>\n",
              "      <td>Practical decorators</td>\n",
              "      <td>20</td>\n",
              "      <td>False</td>\n",
              "      <td>P</td>\n",
              "      <td>2</td>\n",
              "    </tr>\n",
              "    <tr>\n",
              "      <th>68</th>\n",
              "      <td>Python Security Tools</td>\n",
              "      <td>21</td>\n",
              "      <td>False</td>\n",
              "      <td>P</td>\n",
              "      <td>3</td>\n",
              "    </tr>\n",
              "  </tbody>\n",
              "</table>\n",
              "</div>"
            ],
            "text/plain": [
              "                       title  title_length  long_title first_letter  \\\n",
              "56  Measuring Model Fairness            24       False            M   \n",
              "64      Practical decorators            20       False            P   \n",
              "68     Python Security Tools            21       False            P   \n",
              "\n",
              "    title_word_count  \n",
              "56                 3  \n",
              "64                 2  \n",
              "68                 3  "
            ]
          },
          "metadata": {
            "tags": []
          },
          "execution_count": 42
        }
      ]
    },
    {
      "metadata": {
        "colab_type": "text",
        "id": "UN_7FABhwDqc"
      },
      "cell_type": "markdown",
      "source": [
        "## Rename column\n",
        "\n",
        "`title length` --> `title character count`\n",
        "\n",
        "pandas documentation: [rename](https://pandas.pydata.org/pandas-docs/stable/generated/pandas.DataFrame.rename.html)"
      ]
    },
    {
      "metadata": {
        "colab_type": "code",
        "id": "jvTif7sBBMpN",
        "colab": {}
      },
      "cell_type": "code",
      "source": [
        "df = df.rename(columns={'title_length': 'title_char_count'})"
      ],
      "execution_count": 0,
      "outputs": []
    },
    {
      "metadata": {
        "id": "7Djt7o1FfJYN",
        "colab_type": "code",
        "colab": {},
        "outputId": "a92c76b1-397d-4c19-9e77-296635db7543"
      },
      "cell_type": "code",
      "source": [
        "df.head()"
      ],
      "execution_count": 0,
      "outputs": [
        {
          "output_type": "execute_result",
          "data": {
            "text/html": [
              "<div>\n",
              "<style scoped>\n",
              "    .dataframe tbody tr th:only-of-type {\n",
              "        vertical-align: middle;\n",
              "    }\n",
              "\n",
              "    .dataframe tbody tr th {\n",
              "        vertical-align: top;\n",
              "    }\n",
              "\n",
              "    .dataframe thead th {\n",
              "        text-align: right;\n",
              "    }\n",
              "</style>\n",
              "<table border=\"1\" class=\"dataframe\">\n",
              "  <thead>\n",
              "    <tr style=\"text-align: right;\">\n",
              "      <th></th>\n",
              "      <th>title</th>\n",
              "      <th>title_char_count</th>\n",
              "      <th>long_title</th>\n",
              "      <th>first_letter</th>\n",
              "      <th>title_word_count</th>\n",
              "    </tr>\n",
              "  </thead>\n",
              "  <tbody>\n",
              "    <tr>\n",
              "      <th>0</th>\n",
              "      <td>5 Steps to Build Python Native GUI Widgets for BeeWare</td>\n",
              "      <td>54</td>\n",
              "      <td>False</td>\n",
              "      <td>5</td>\n",
              "      <td>10</td>\n",
              "    </tr>\n",
              "    <tr>\n",
              "      <th>1</th>\n",
              "      <td>8 things that happen at the dot:  Attribute Access &amp; Descriptors</td>\n",
              "      <td>64</td>\n",
              "      <td>False</td>\n",
              "      <td>8</td>\n",
              "      <td>10</td>\n",
              "    </tr>\n",
              "    <tr>\n",
              "      <th>2</th>\n",
              "      <td>Account Security Patterns: How Logged-In Are you?</td>\n",
              "      <td>49</td>\n",
              "      <td>False</td>\n",
              "      <td>A</td>\n",
              "      <td>7</td>\n",
              "    </tr>\n",
              "    <tr>\n",
              "      <th>3</th>\n",
              "      <td>Ace Your Technical Interview Using Python</td>\n",
              "      <td>41</td>\n",
              "      <td>False</td>\n",
              "      <td>A</td>\n",
              "      <td>6</td>\n",
              "    </tr>\n",
              "    <tr>\n",
              "      <th>4</th>\n",
              "      <td>Advanced asyncio: Solving Real-world Production Problems</td>\n",
              "      <td>56</td>\n",
              "      <td>False</td>\n",
              "      <td>A</td>\n",
              "      <td>6</td>\n",
              "    </tr>\n",
              "  </tbody>\n",
              "</table>\n",
              "</div>"
            ],
            "text/plain": [
              "                                                              title  \\\n",
              "0            5 Steps to Build Python Native GUI Widgets for BeeWare   \n",
              "1  8 things that happen at the dot:  Attribute Access & Descriptors   \n",
              "2                 Account Security Patterns: How Logged-In Are you?   \n",
              "3                         Ace Your Technical Interview Using Python   \n",
              "4          Advanced asyncio: Solving Real-world Production Problems   \n",
              "\n",
              "   title_char_count  long_title first_letter  title_word_count  \n",
              "0                54       False            5                10  \n",
              "1                64       False            8                10  \n",
              "2                49       False            A                 7  \n",
              "3                41       False            A                 6  \n",
              "4                56       False            A                 6  "
            ]
          },
          "metadata": {
            "tags": []
          },
          "execution_count": 44
        }
      ]
    },
    {
      "metadata": {
        "colab_type": "text",
        "id": "ca2pDtytr5tR"
      },
      "cell_type": "markdown",
      "source": [
        "## Analyze the dataframe"
      ]
    },
    {
      "metadata": {
        "colab_type": "text",
        "id": "AitNVDCFwWwc"
      },
      "cell_type": "markdown",
      "source": [
        "### Describe\n",
        "\n",
        "pandas documentation: [describe](https://pandas.pydata.org/pandas-docs/stable/generated/pandas.DataFrame.describe.html)"
      ]
    },
    {
      "metadata": {
        "colab_type": "code",
        "id": "yPo9RdxYBQ64",
        "colab": {},
        "outputId": "784944b0-61ea-4673-bb43-3f303ef1a590"
      },
      "cell_type": "code",
      "source": [
        "df.describe()"
      ],
      "execution_count": 0,
      "outputs": [
        {
          "output_type": "execute_result",
          "data": {
            "text/html": [
              "<div>\n",
              "<style scoped>\n",
              "    .dataframe tbody tr th:only-of-type {\n",
              "        vertical-align: middle;\n",
              "    }\n",
              "\n",
              "    .dataframe tbody tr th {\n",
              "        vertical-align: top;\n",
              "    }\n",
              "\n",
              "    .dataframe thead th {\n",
              "        text-align: right;\n",
              "    }\n",
              "</style>\n",
              "<table border=\"1\" class=\"dataframe\">\n",
              "  <thead>\n",
              "    <tr style=\"text-align: right;\">\n",
              "      <th></th>\n",
              "      <th>title_char_count</th>\n",
              "      <th>title_word_count</th>\n",
              "    </tr>\n",
              "  </thead>\n",
              "  <tbody>\n",
              "    <tr>\n",
              "      <th>count</th>\n",
              "      <td>95.000000</td>\n",
              "      <td>95.000000</td>\n",
              "    </tr>\n",
              "    <tr>\n",
              "      <th>mean</th>\n",
              "      <td>51.347368</td>\n",
              "      <td>7.978947</td>\n",
              "    </tr>\n",
              "    <tr>\n",
              "      <th>std</th>\n",
              "      <td>17.729509</td>\n",
              "      <td>3.218890</td>\n",
              "    </tr>\n",
              "    <tr>\n",
              "      <th>min</th>\n",
              "      <td>20.000000</td>\n",
              "      <td>2.000000</td>\n",
              "    </tr>\n",
              "    <tr>\n",
              "      <th>25%</th>\n",
              "      <td>37.000000</td>\n",
              "      <td>6.000000</td>\n",
              "    </tr>\n",
              "    <tr>\n",
              "      <th>50%</th>\n",
              "      <td>52.000000</td>\n",
              "      <td>7.000000</td>\n",
              "    </tr>\n",
              "    <tr>\n",
              "      <th>75%</th>\n",
              "      <td>62.000000</td>\n",
              "      <td>9.500000</td>\n",
              "    </tr>\n",
              "    <tr>\n",
              "      <th>max</th>\n",
              "      <td>95.000000</td>\n",
              "      <td>19.000000</td>\n",
              "    </tr>\n",
              "  </tbody>\n",
              "</table>\n",
              "</div>"
            ],
            "text/plain": [
              "       title_char_count  title_word_count\n",
              "count         95.000000         95.000000\n",
              "mean          51.347368          7.978947\n",
              "std           17.729509          3.218890\n",
              "min           20.000000          2.000000\n",
              "25%           37.000000          6.000000\n",
              "50%           52.000000          7.000000\n",
              "75%           62.000000          9.500000\n",
              "max           95.000000         19.000000"
            ]
          },
          "metadata": {
            "tags": []
          },
          "execution_count": 45
        }
      ]
    },
    {
      "metadata": {
        "id": "Yf_pMk0RfJYV",
        "colab_type": "code",
        "colab": {},
        "outputId": "15dee242-cbde-42c7-a1ca-84ca2c924021"
      },
      "cell_type": "code",
      "source": [
        "df.describe(exclude='number')"
      ],
      "execution_count": 0,
      "outputs": [
        {
          "output_type": "execute_result",
          "data": {
            "text/html": [
              "<div>\n",
              "<style scoped>\n",
              "    .dataframe tbody tr th:only-of-type {\n",
              "        vertical-align: middle;\n",
              "    }\n",
              "\n",
              "    .dataframe tbody tr th {\n",
              "        vertical-align: top;\n",
              "    }\n",
              "\n",
              "    .dataframe thead th {\n",
              "        text-align: right;\n",
              "    }\n",
              "</style>\n",
              "<table border=\"1\" class=\"dataframe\">\n",
              "  <thead>\n",
              "    <tr style=\"text-align: right;\">\n",
              "      <th></th>\n",
              "      <th>title</th>\n",
              "      <th>long_title</th>\n",
              "      <th>first_letter</th>\n",
              "    </tr>\n",
              "  </thead>\n",
              "  <tbody>\n",
              "    <tr>\n",
              "      <th>count</th>\n",
              "      <td>95</td>\n",
              "      <td>95</td>\n",
              "      <td>95</td>\n",
              "    </tr>\n",
              "    <tr>\n",
              "      <th>unique</th>\n",
              "      <td>95</td>\n",
              "      <td>2</td>\n",
              "      <td>22</td>\n",
              "    </tr>\n",
              "    <tr>\n",
              "      <th>top</th>\n",
              "      <td>Take Back the Web with GraphQL</td>\n",
              "      <td>False</td>\n",
              "      <td>T</td>\n",
              "    </tr>\n",
              "    <tr>\n",
              "      <th>freq</th>\n",
              "      <td>1</td>\n",
              "      <td>87</td>\n",
              "      <td>12</td>\n",
              "    </tr>\n",
              "  </tbody>\n",
              "</table>\n",
              "</div>"
            ],
            "text/plain": [
              "                                 title long_title first_letter\n",
              "count                               95         95           95\n",
              "unique                              95          2           22\n",
              "top     Take Back the Web with GraphQL      False            T\n",
              "freq                                 1         87           12"
            ]
          },
          "metadata": {
            "tags": []
          },
          "execution_count": 46
        }
      ]
    },
    {
      "metadata": {
        "colab_type": "text",
        "id": "T0lc_o-xyjZU"
      },
      "cell_type": "markdown",
      "source": [
        "### Sort values\n",
        "\n",
        "pandas documentation: [sort_values](https://pandas.pydata.org/pandas-docs/stable/generated/pandas.DataFrame.sort_values.html)"
      ]
    },
    {
      "metadata": {
        "colab_type": "text",
        "id": "kxE2swJ9-cG_"
      },
      "cell_type": "markdown",
      "source": [
        "Five shortest titles, by character count"
      ]
    },
    {
      "metadata": {
        "colab_type": "code",
        "id": "7t8DlpLhBVQa",
        "colab": {},
        "outputId": "34a0fd83-8464-4c3b-8736-41b50e3cea2b"
      },
      "cell_type": "code",
      "source": [
        "df.sort_values(by='title_char_count').head(5)"
      ],
      "execution_count": 0,
      "outputs": [
        {
          "output_type": "execute_result",
          "data": {
            "text/html": [
              "<div>\n",
              "<style scoped>\n",
              "    .dataframe tbody tr th:only-of-type {\n",
              "        vertical-align: middle;\n",
              "    }\n",
              "\n",
              "    .dataframe tbody tr th {\n",
              "        vertical-align: top;\n",
              "    }\n",
              "\n",
              "    .dataframe thead th {\n",
              "        text-align: right;\n",
              "    }\n",
              "</style>\n",
              "<table border=\"1\" class=\"dataframe\">\n",
              "  <thead>\n",
              "    <tr style=\"text-align: right;\">\n",
              "      <th></th>\n",
              "      <th>title</th>\n",
              "      <th>title_char_count</th>\n",
              "      <th>long_title</th>\n",
              "      <th>first_letter</th>\n",
              "      <th>title_word_count</th>\n",
              "    </tr>\n",
              "  </thead>\n",
              "  <tbody>\n",
              "    <tr>\n",
              "      <th>64</th>\n",
              "      <td>Practical decorators</td>\n",
              "      <td>20</td>\n",
              "      <td>False</td>\n",
              "      <td>P</td>\n",
              "      <td>2</td>\n",
              "    </tr>\n",
              "    <tr>\n",
              "      <th>68</th>\n",
              "      <td>Python Security Tools</td>\n",
              "      <td>21</td>\n",
              "      <td>False</td>\n",
              "      <td>P</td>\n",
              "      <td>3</td>\n",
              "    </tr>\n",
              "    <tr>\n",
              "      <th>89</th>\n",
              "      <td>Type hinting (and mypy)</td>\n",
              "      <td>23</td>\n",
              "      <td>False</td>\n",
              "      <td>T</td>\n",
              "      <td>4</td>\n",
              "    </tr>\n",
              "    <tr>\n",
              "      <th>82</th>\n",
              "      <td>The Zen of Python Teams</td>\n",
              "      <td>23</td>\n",
              "      <td>False</td>\n",
              "      <td>T</td>\n",
              "      <td>5</td>\n",
              "    </tr>\n",
              "    <tr>\n",
              "      <th>56</th>\n",
              "      <td>Measuring Model Fairness</td>\n",
              "      <td>24</td>\n",
              "      <td>False</td>\n",
              "      <td>M</td>\n",
              "      <td>3</td>\n",
              "    </tr>\n",
              "  </tbody>\n",
              "</table>\n",
              "</div>"
            ],
            "text/plain": [
              "                       title  title_char_count  long_title first_letter  \\\n",
              "64      Practical decorators                20       False            P   \n",
              "68     Python Security Tools                21       False            P   \n",
              "89   Type hinting (and mypy)                23       False            T   \n",
              "82   The Zen of Python Teams                23       False            T   \n",
              "56  Measuring Model Fairness                24       False            M   \n",
              "\n",
              "    title_word_count  \n",
              "64                 2  \n",
              "68                 3  \n",
              "89                 4  \n",
              "82                 5  \n",
              "56                 3  "
            ]
          },
          "metadata": {
            "tags": []
          },
          "execution_count": 47
        }
      ]
    },
    {
      "metadata": {
        "id": "ux9_E40rfJYj",
        "colab_type": "code",
        "colab": {},
        "outputId": "54709440-4b88-40c7-eb38-fb1f3fda388f"
      },
      "cell_type": "code",
      "source": [
        "df.sort_values(by='title_char_count').head(5)['title']"
      ],
      "execution_count": 0,
      "outputs": [
        {
          "output_type": "execute_result",
          "data": {
            "text/plain": [
              "64        Practical decorators\n",
              "68       Python Security Tools\n",
              "89     Type hinting (and mypy)\n",
              "82     The Zen of Python Teams\n",
              "56    Measuring Model Fairness\n",
              "Name: title, dtype: object"
            ]
          },
          "metadata": {
            "tags": []
          },
          "execution_count": 48
        }
      ]
    },
    {
      "metadata": {
        "colab_type": "text",
        "id": "NOEH4Ef5-kvo"
      },
      "cell_type": "markdown",
      "source": [
        "Titles sorted reverse alphabetically"
      ]
    },
    {
      "metadata": {
        "colab_type": "code",
        "id": "WkymeWDjBV8X",
        "colab": {},
        "outputId": "2753b0fd-dca4-45a0-8bea-dbb9c65dc465"
      },
      "cell_type": "code",
      "source": [
        "df.sort_values(by='first_letter', ascending=False).head(5)"
      ],
      "execution_count": 0,
      "outputs": [
        {
          "output_type": "execute_result",
          "data": {
            "text/html": [
              "<div>\n",
              "<style scoped>\n",
              "    .dataframe tbody tr th:only-of-type {\n",
              "        vertical-align: middle;\n",
              "    }\n",
              "\n",
              "    .dataframe tbody tr th {\n",
              "        vertical-align: top;\n",
              "    }\n",
              "\n",
              "    .dataframe thead th {\n",
              "        text-align: right;\n",
              "    }\n",
              "</style>\n",
              "<table border=\"1\" class=\"dataframe\">\n",
              "  <thead>\n",
              "    <tr style=\"text-align: right;\">\n",
              "      <th></th>\n",
              "      <th>title</th>\n",
              "      <th>title_char_count</th>\n",
              "      <th>long_title</th>\n",
              "      <th>first_letter</th>\n",
              "      <th>title_word_count</th>\n",
              "    </tr>\n",
              "  </thead>\n",
              "  <tbody>\n",
              "    <tr>\n",
              "      <th>30</th>\n",
              "      <td>¡Escuincla babosa!: Creating a telenovela script in three Python deep learning frameworks</td>\n",
              "      <td>89</td>\n",
              "      <td>True</td>\n",
              "      <td>¡</td>\n",
              "      <td>12</td>\n",
              "    </tr>\n",
              "    <tr>\n",
              "      <th>88</th>\n",
              "      <td>to GIL or not to GIL: the Future of Multi-Core (C)Python</td>\n",
              "      <td>56</td>\n",
              "      <td>False</td>\n",
              "      <td>t</td>\n",
              "      <td>11</td>\n",
              "    </tr>\n",
              "    <tr>\n",
              "      <th>94</th>\n",
              "      <td>Working with Time Zones: Everything You Wish You Didn't Need to Know</td>\n",
              "      <td>68</td>\n",
              "      <td>False</td>\n",
              "      <td>W</td>\n",
              "      <td>12</td>\n",
              "    </tr>\n",
              "    <tr>\n",
              "      <th>93</th>\n",
              "      <td>Wily Python: Writing simpler and more maintainable Python</td>\n",
              "      <td>57</td>\n",
              "      <td>False</td>\n",
              "      <td>W</td>\n",
              "      <td>8</td>\n",
              "    </tr>\n",
              "    <tr>\n",
              "      <th>92</th>\n",
              "      <td>What's new in Python 3.7</td>\n",
              "      <td>24</td>\n",
              "      <td>False</td>\n",
              "      <td>W</td>\n",
              "      <td>5</td>\n",
              "    </tr>\n",
              "  </tbody>\n",
              "</table>\n",
              "</div>"
            ],
            "text/plain": [
              "                                                                                        title  \\\n",
              "30  ¡Escuincla babosa!: Creating a telenovela script in three Python deep learning frameworks   \n",
              "88                                   to GIL or not to GIL: the Future of Multi-Core (C)Python   \n",
              "94                       Working with Time Zones: Everything You Wish You Didn't Need to Know   \n",
              "93                                  Wily Python: Writing simpler and more maintainable Python   \n",
              "92                                                                   What's new in Python 3.7   \n",
              "\n",
              "    title_char_count  long_title first_letter  title_word_count  \n",
              "30                89        True            ¡                12  \n",
              "88                56       False            t                11  \n",
              "94                68       False            W                12  \n",
              "93                57       False            W                 8  \n",
              "92                24       False            W                 5  "
            ]
          },
          "metadata": {
            "tags": []
          },
          "execution_count": 49
        }
      ]
    },
    {
      "metadata": {
        "colab_type": "text",
        "id": "e4wr42FB0GV-"
      },
      "cell_type": "markdown",
      "source": [
        "### Get value counts\n",
        "\n",
        "pandas documentation: [value_counts](https://pandas.pydata.org/pandas-docs/stable/generated/pandas.Series.value_counts.html)\n"
      ]
    },
    {
      "metadata": {
        "colab_type": "text",
        "id": "D81LNGaI-6ya"
      },
      "cell_type": "markdown",
      "source": [
        "Frequency counts of first letters"
      ]
    },
    {
      "metadata": {
        "colab_type": "code",
        "id": "AdTQYsRKBZio",
        "colab": {},
        "outputId": "1380a86f-8a66-4cf7-f10f-3e4975c89f41"
      },
      "cell_type": "code",
      "source": [
        "df['first_letter'].value_counts()"
      ],
      "execution_count": 0,
      "outputs": [
        {
          "output_type": "execute_result",
          "data": {
            "text/plain": [
              "T    12\n",
              "A    11\n",
              "P     8\n",
              "M     8\n",
              "E     7\n",
              "S     6\n",
              "B     6\n",
              "H     5\n",
              "W     4\n",
              "G     4\n",
              "L     4\n",
              "D     4\n",
              "C     3\n",
              "F     3\n",
              "R     2\n",
              "I     2\n",
              "5     1\n",
              "t     1\n",
              "¡     1\n",
              "O     1\n",
              "8     1\n",
              "U     1\n",
              "Name: first_letter, dtype: int64"
            ]
          },
          "metadata": {
            "tags": []
          },
          "execution_count": 50
        }
      ]
    },
    {
      "metadata": {
        "colab_type": "text",
        "id": "04NVokvTAwqK"
      },
      "cell_type": "markdown",
      "source": [
        "Percentage of talks with long titles"
      ]
    },
    {
      "metadata": {
        "colab_type": "code",
        "id": "uS8qp4hrBat6",
        "colab": {},
        "outputId": "b992a366-0639-41de-bcc3-ae25a9a5e749"
      },
      "cell_type": "code",
      "source": [
        "df['long_title'].value_counts(normalize=True)"
      ],
      "execution_count": 0,
      "outputs": [
        {
          "output_type": "execute_result",
          "data": {
            "text/plain": [
              "False    0.915789\n",
              "True     0.084211\n",
              "Name: long_title, dtype: float64"
            ]
          },
          "metadata": {
            "tags": []
          },
          "execution_count": 51
        }
      ]
    },
    {
      "metadata": {
        "colab_type": "text",
        "id": "mmYZL2QL0lgd"
      },
      "cell_type": "markdown",
      "source": [
        "### Plot\n",
        "\n",
        "pandas documentation: [Visualization](https://pandas.pydata.org/pandas-docs/stable/visualization.html)\n",
        "\n",
        "\n",
        "\n"
      ]
    },
    {
      "metadata": {
        "colab_type": "text",
        "id": "c6gCotA9_B68"
      },
      "cell_type": "markdown",
      "source": [
        "Top 5 most frequent first letters"
      ]
    },
    {
      "metadata": {
        "colab_type": "code",
        "id": "DUmcVcdXBdkw",
        "colab": {},
        "outputId": "c2cde8fd-dc32-4216-8a9c-c817142adcfd"
      },
      "cell_type": "code",
      "source": [
        "%matplotlib inline\n",
        "(df['first_letter']\n",
        " .value_counts()\n",
        " .head(5)\n",
        " .plot\n",
        " .barh(color='green', \n",
        "       title='Top 5 Most Frequent First Letters, PyCon 2019 Talks'));"
      ],
      "execution_count": 0,
      "outputs": [
        {
          "output_type": "display_data",
          "data": {
            "image/png": "[encoded data removed]",
            "text/plain": [
              "<Figure size 432x288 with 1 Axes>"
            ]
          },
          "metadata": {
            "tags": [],
            "needs_background": "light"
          }
        }
      ]
    },
    {
      "metadata": {
        "colab_type": "text",
        "id": "_Ngegk0bASty"
      },
      "cell_type": "markdown",
      "source": [
        "Histogram of title lengths, in characters"
      ]
    },
    {
      "metadata": {
        "colab_type": "code",
        "id": "y5oLu2D4BeKw",
        "colab": {},
        "outputId": "227bb7b0-5d8e-446c-b1af-977f05ae34c3"
      },
      "cell_type": "code",
      "source": [
        "title = 'Distribution of Title Length in Characters'\n",
        "df['title_char_count'].plot.hist(title=title);"
      ],
      "execution_count": 0,
      "outputs": [
        {
          "output_type": "display_data",
          "data": {
            "image/png": "[encoded data removed]",
            "text/plain": [
              "<Figure size 432x288 with 1 Axes>"
            ]
          },
          "metadata": {
            "tags": [],
            "needs_background": "light"
          }
        }
      ]
    },
    {
      "metadata": {
        "colab_type": "text",
        "id": "DiylH7LQw44u"
      },
      "cell_type": "markdown",
      "source": [
        "# Assignment\n",
        "\n",
        "**Scrape** the talk descriptions. Hint: `soup.select('.presentation-description')`\n",
        "\n",
        "**Make** new columns in the dataframe:\n",
        "- description\n",
        "- description character count\n",
        "- description word count\n",
        "\n",
        "**Describe** all the dataframe's columns. What's the average description word count? The minimum? The maximum?\n",
        "\n",
        "**Answer** the question: Which descriptions could fit in a tweet?"
      ]
    },
    {
      "metadata": {
        "id": "2eCMM7ycfJZM",
        "colab_type": "code",
        "colab": {},
        "outputId": "5d8341f1-d060-41c8-ca35-bb09838ca723"
      },
      "cell_type": "code",
      "source": [
        "descriptions = [tag.text\n",
        "                .strip()\n",
        "                .replace('\\r\\n\\r\\n', ' ')\n",
        "                for tag in soup.select('.presentation-description')]\n",
        "descriptions[:3]"
      ],
      "execution_count": 0,
      "outputs": [
        {
          "output_type": "execute_result",
          "data": {
            "text/plain": [
              "[\"Have you ever wanted to write a GUI application in Python that you can run on both your laptop and your phone? Have you been looking to contribute to an open source project, but you don't know where to start? BeeWare is a set of software libraries for cross-platform native app development from a single Python codebase and tools to simplify app deployment. The project aims to build, deploy, and run apps for Windows, Linux, macOS, Android, iPhone, and the web. It is native because it is actually using your platform's native GUI widgets, not a theme, icon pack, or webpage wrapper. This talk will teach you how Toga, the BeeWare GUI toolkit, is architected and then show you how you can contribute to Toga by creating your own GUI widget in five easy steps.\",\n",
              " 'We rarely think about the dot “.” between our objects and their fields, but there are quite a lot of things that happen every time we use one in Python. This talk will explore the details of what happens, how the descriptor protocol works, and how it can be used to alter the Python object model.',\n",
              " 'Account security means making sure your users are only ones who can access their accounts. Account takeovers happen for a variety of reasons -- password re-use, compromised computers, guessable passwords, and more. This talk gives you concepts and concrete skills that will help you identify and prevent account takeovers and limit the damage. It’s inspired by practices in use at GitHub, Google, and the Python Package Index.']"
            ]
          },
          "metadata": {
            "tags": []
          },
          "execution_count": 97
        }
      ]
    },
    {
      "metadata": {
        "id": "_vxwBu3SfJZQ",
        "colab_type": "code",
        "colab": {},
        "outputId": "eb68c5e9-18f1-47f4-9d4f-7f8491277101"
      },
      "cell_type": "code",
      "source": [
        "df['description'] = descriptions\n",
        "df['desc_char_count'] = df['description'].apply(len)\n",
        "df['desc_word_count'] = df['description'].apply(textstat.lexicon_count)\n",
        "df.head()"
      ],
      "execution_count": 0,
      "outputs": [
        {
          "output_type": "execute_result",
          "data": {
            "text/html": [
              "<div>\n",
              "<style scoped>\n",
              "    .dataframe tbody tr th:only-of-type {\n",
              "        vertical-align: middle;\n",
              "    }\n",
              "\n",
              "    .dataframe tbody tr th {\n",
              "        vertical-align: top;\n",
              "    }\n",
              "\n",
              "    .dataframe thead th {\n",
              "        text-align: right;\n",
              "    }\n",
              "</style>\n",
              "<table border=\"1\" class=\"dataframe\">\n",
              "  <thead>\n",
              "    <tr style=\"text-align: right;\">\n",
              "      <th></th>\n",
              "      <th>title</th>\n",
              "      <th>title_char_count</th>\n",
              "      <th>long_title</th>\n",
              "      <th>first_letter</th>\n",
              "      <th>title_word_count</th>\n",
              "      <th>description</th>\n",
              "      <th>desc_char_count</th>\n",
              "      <th>desc_word_count</th>\n",
              "    </tr>\n",
              "  </thead>\n",
              "  <tbody>\n",
              "    <tr>\n",
              "      <th>0</th>\n",
              "      <td>5 Steps to Build Python Native GUI Widgets for BeeWare</td>\n",
              "      <td>54</td>\n",
              "      <td>False</td>\n",
              "      <td>5</td>\n",
              "      <td>10</td>\n",
              "      <td>Have you ever wanted to write a GUI application in Python that you can run on both your laptop and your phone? Have you been looking to contribute to an open source project, but you don't know whe...</td>\n",
              "      <td>760</td>\n",
              "      <td>135</td>\n",
              "    </tr>\n",
              "    <tr>\n",
              "      <th>1</th>\n",
              "      <td>8 things that happen at the dot:  Attribute Access &amp; Descriptors</td>\n",
              "      <td>64</td>\n",
              "      <td>False</td>\n",
              "      <td>8</td>\n",
              "      <td>10</td>\n",
              "      <td>We rarely think about the dot “.” between our objects and their fields, but there are quite a lot of things that happen every time we use one in Python. This talk will explore the details of what ...</td>\n",
              "      <td>296</td>\n",
              "      <td>56</td>\n",
              "    </tr>\n",
              "    <tr>\n",
              "      <th>2</th>\n",
              "      <td>Account Security Patterns: How Logged-In Are you?</td>\n",
              "      <td>49</td>\n",
              "      <td>False</td>\n",
              "      <td>A</td>\n",
              "      <td>7</td>\n",
              "      <td>Account security means making sure your users are only ones who can access their accounts. Account takeovers happen for a variety of reasons -- password re-use, compromised computers, guessable pa...</td>\n",
              "      <td>426</td>\n",
              "      <td>66</td>\n",
              "    </tr>\n",
              "    <tr>\n",
              "      <th>3</th>\n",
              "      <td>Ace Your Technical Interview Using Python</td>\n",
              "      <td>41</td>\n",
              "      <td>False</td>\n",
              "      <td>A</td>\n",
              "      <td>6</td>\n",
              "      <td>Do you feel overwhelmed by the prospect of having to find a new software engineering job because you dread the technical interviewing process? Have you been putting off submitting your job applica...</td>\n",
              "      <td>504</td>\n",
              "      <td>84</td>\n",
              "    </tr>\n",
              "    <tr>\n",
              "      <th>4</th>\n",
              "      <td>Advanced asyncio: Solving Real-world Production Problems</td>\n",
              "      <td>56</td>\n",
              "      <td>False</td>\n",
              "      <td>A</td>\n",
              "      <td>6</td>\n",
              "      <td>Everyone’s talking about it. Everyone’s using it. But most likely, they’re doing it wrong, just like we did. By building a simplified chaos monkey service, we will walk through how to create a goo...</td>\n",
              "      <td>644</td>\n",
              "      <td>96</td>\n",
              "    </tr>\n",
              "  </tbody>\n",
              "</table>\n",
              "</div>"
            ],
            "text/plain": [
              "                                                              title  \\\n",
              "0            5 Steps to Build Python Native GUI Widgets for BeeWare   \n",
              "1  8 things that happen at the dot:  Attribute Access & Descriptors   \n",
              "2                 Account Security Patterns: How Logged-In Are you?   \n",
              "3                         Ace Your Technical Interview Using Python   \n",
              "4          Advanced asyncio: Solving Real-world Production Problems   \n",
              "\n",
              "   title_char_count  long_title first_letter  title_word_count  \\\n",
              "0                54       False            5                10   \n",
              "1                64       False            8                10   \n",
              "2                49       False            A                 7   \n",
              "3                41       False            A                 6   \n",
              "4                56       False            A                 6   \n",
              "\n",
              "                                                                                                                                                                                               description  \\\n",
              "0  Have you ever wanted to write a GUI application in Python that you can run on both your laptop and your phone? Have you been looking to contribute to an open source project, but you don't know whe...   \n",
              "1  We rarely think about the dot “.” between our objects and their fields, but there are quite a lot of things that happen every time we use one in Python. This talk will explore the details of what ...   \n",
              "2  Account security means making sure your users are only ones who can access their accounts. Account takeovers happen for a variety of reasons -- password re-use, compromised computers, guessable pa...   \n",
              "3  Do you feel overwhelmed by the prospect of having to find a new software engineering job because you dread the technical interviewing process? Have you been putting off submitting your job applica...   \n",
              "4  Everyone’s talking about it. Everyone’s using it. But most likely, they’re doing it wrong, just like we did. By building a simplified chaos monkey service, we will walk through how to create a goo...   \n",
              "\n",
              "   desc_char_count  desc_word_count  \n",
              "0              760              135  \n",
              "1              296               56  \n",
              "2              426               66  \n",
              "3              504               84  \n",
              "4              644               96  "
            ]
          },
          "metadata": {
            "tags": []
          },
          "execution_count": 85
        }
      ]
    },
    {
      "metadata": {
        "id": "MH7inPJjfJZU",
        "colab_type": "code",
        "colab": {},
        "outputId": "0349dd67-f735-4e02-d9d6-9460b9366498"
      },
      "cell_type": "code",
      "source": [
        "df.describe()"
      ],
      "execution_count": 0,
      "outputs": [
        {
          "output_type": "execute_result",
          "data": {
            "text/html": [
              "<div>\n",
              "<style scoped>\n",
              "    .dataframe tbody tr th:only-of-type {\n",
              "        vertical-align: middle;\n",
              "    }\n",
              "\n",
              "    .dataframe tbody tr th {\n",
              "        vertical-align: top;\n",
              "    }\n",
              "\n",
              "    .dataframe thead th {\n",
              "        text-align: right;\n",
              "    }\n",
              "</style>\n",
              "<table border=\"1\" class=\"dataframe\">\n",
              "  <thead>\n",
              "    <tr style=\"text-align: right;\">\n",
              "      <th></th>\n",
              "      <th>title_char_count</th>\n",
              "      <th>title_word_count</th>\n",
              "      <th>desc_char_count</th>\n",
              "      <th>desc_word_count</th>\n",
              "    </tr>\n",
              "  </thead>\n",
              "  <tbody>\n",
              "    <tr>\n",
              "      <th>count</th>\n",
              "      <td>95.000000</td>\n",
              "      <td>95.000000</td>\n",
              "      <td>95.000000</td>\n",
              "      <td>95.000000</td>\n",
              "    </tr>\n",
              "    <tr>\n",
              "      <th>mean</th>\n",
              "      <td>51.347368</td>\n",
              "      <td>7.978947</td>\n",
              "      <td>808.526316</td>\n",
              "      <td>130.821053</td>\n",
              "    </tr>\n",
              "    <tr>\n",
              "      <th>std</th>\n",
              "      <td>17.729509</td>\n",
              "      <td>3.218890</td>\n",
              "      <td>412.511969</td>\n",
              "      <td>64.357872</td>\n",
              "    </tr>\n",
              "    <tr>\n",
              "      <th>min</th>\n",
              "      <td>20.000000</td>\n",
              "      <td>2.000000</td>\n",
              "      <td>121.000000</td>\n",
              "      <td>20.000000</td>\n",
              "    </tr>\n",
              "    <tr>\n",
              "      <th>25%</th>\n",
              "      <td>37.000000</td>\n",
              "      <td>6.000000</td>\n",
              "      <td>539.500000</td>\n",
              "      <td>85.500000</td>\n",
              "    </tr>\n",
              "    <tr>\n",
              "      <th>50%</th>\n",
              "      <td>52.000000</td>\n",
              "      <td>7.000000</td>\n",
              "      <td>718.000000</td>\n",
              "      <td>116.000000</td>\n",
              "    </tr>\n",
              "    <tr>\n",
              "      <th>75%</th>\n",
              "      <td>62.000000</td>\n",
              "      <td>9.500000</td>\n",
              "      <td>1010.500000</td>\n",
              "      <td>165.000000</td>\n",
              "    </tr>\n",
              "    <tr>\n",
              "      <th>max</th>\n",
              "      <td>95.000000</td>\n",
              "      <td>19.000000</td>\n",
              "      <td>2818.000000</td>\n",
              "      <td>421.000000</td>\n",
              "    </tr>\n",
              "  </tbody>\n",
              "</table>\n",
              "</div>"
            ],
            "text/plain": [
              "       title_char_count  title_word_count  desc_char_count  desc_word_count\n",
              "count         95.000000         95.000000        95.000000        95.000000\n",
              "mean          51.347368          7.978947       808.526316       130.821053\n",
              "std           17.729509          3.218890       412.511969        64.357872\n",
              "min           20.000000          2.000000       121.000000        20.000000\n",
              "25%           37.000000          6.000000       539.500000        85.500000\n",
              "50%           52.000000          7.000000       718.000000       116.000000\n",
              "75%           62.000000          9.500000      1010.500000       165.000000\n",
              "max           95.000000         19.000000      2818.000000       421.000000"
            ]
          },
          "metadata": {
            "tags": []
          },
          "execution_count": 81
        }
      ]
    },
    {
      "metadata": {
        "id": "eBxlDMCrfJZZ",
        "colab_type": "text"
      },
      "cell_type": "markdown",
      "source": [
        "Average description word count: 130 words\n",
        "\n",
        "Minimum description word count: 20 words\n",
        "\n",
        "Maximum description word count: 421 words"
      ]
    },
    {
      "metadata": {
        "id": "IXboawCkfJZa",
        "colab_type": "code",
        "colab": {},
        "outputId": "706181e6-74ad-4722-b76a-1c8e508d1e1d"
      },
      "cell_type": "code",
      "source": [
        "# Which descriptions could fit in a tweet? (280 characters)\n",
        "df[ df['desc_char_count'] <= 280]"
      ],
      "execution_count": 0,
      "outputs": [
        {
          "output_type": "execute_result",
          "data": {
            "text/html": [
              "<div>\n",
              "<style scoped>\n",
              "    .dataframe tbody tr th:only-of-type {\n",
              "        vertical-align: middle;\n",
              "    }\n",
              "\n",
              "    .dataframe tbody tr th {\n",
              "        vertical-align: top;\n",
              "    }\n",
              "\n",
              "    .dataframe thead th {\n",
              "        text-align: right;\n",
              "    }\n",
              "</style>\n",
              "<table border=\"1\" class=\"dataframe\">\n",
              "  <thead>\n",
              "    <tr style=\"text-align: right;\">\n",
              "      <th></th>\n",
              "      <th>title</th>\n",
              "      <th>title_char_count</th>\n",
              "      <th>long_title</th>\n",
              "      <th>first_letter</th>\n",
              "      <th>title_word_count</th>\n",
              "      <th>description</th>\n",
              "      <th>desc_char_count</th>\n",
              "      <th>desc_word_count</th>\n",
              "    </tr>\n",
              "  </thead>\n",
              "  <tbody>\n",
              "    <tr>\n",
              "      <th>54</th>\n",
              "      <td>Making Music with Python, SuperCollider and FoxDot</td>\n",
              "      <td>50</td>\n",
              "      <td>False</td>\n",
              "      <td>M</td>\n",
              "      <td>7</td>\n",
              "      <td>Learn how to make music with Python, SuperCollider and FoxDot. We'll create a song together in this live coded adventure.</td>\n",
              "      <td>121</td>\n",
              "      <td>20</td>\n",
              "    </tr>\n",
              "  </tbody>\n",
              "</table>\n",
              "</div>"
            ],
            "text/plain": [
              "                                                 title  title_char_count  \\\n",
              "54  Making Music with Python, SuperCollider and FoxDot                50   \n",
              "\n",
              "    long_title first_letter  title_word_count  \\\n",
              "54       False            M                 7   \n",
              "\n",
              "                                                                                                                  description  \\\n",
              "54  Learn how to make music with Python, SuperCollider and FoxDot. We'll create a song together in this live coded adventure.   \n",
              "\n",
              "    desc_char_count  desc_word_count  \n",
              "54              121               20  "
            ]
          },
          "metadata": {
            "tags": []
          },
          "execution_count": 89
        }
      ]
    },
    {
      "metadata": {
        "id": "1VTjxO7nfJZl",
        "colab_type": "code",
        "colab": {},
        "outputId": "7bb39f89-0088-49db-e3ea-57d00a9e9ed3"
      },
      "cell_type": "code",
      "source": [
        "df['flesch_kincaid'] = [textstat.flesch_kincaid_grade(item) for item in descriptions]\n",
        "df['flesch_kincaid'].plot.hist();"
      ],
      "execution_count": 0,
      "outputs": [
        {
          "output_type": "display_data",
          "data": {
            "image/png": "[encoded data removed]",
            "text/plain": [
              "<Figure size 432x288 with 1 Axes>"
            ]
          },
          "metadata": {
            "tags": [],
            "needs_background": "light"
          }
        }
      ]
    }
  ]
}